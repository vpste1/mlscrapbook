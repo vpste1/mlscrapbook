{
  "nbformat": 4,
  "nbformat_minor": 0,
  "metadata": {
    "colab": {
      "name": "BaselineMNIST",
      "provenance": [],
      "authorship_tag": "ABX9TyM0904hiEVe1FuVVR1TPS/7",
      "include_colab_link": true
    },
    "kernelspec": {
      "name": "python3",
      "display_name": "Python 3"
    },
    "accelerator": "GPU"
  },
  "cells": [
    {
      "cell_type": "markdown",
      "metadata": {
        "id": "view-in-github",
        "colab_type": "text"
      },
      "source": [
        "<a href=\"https://colab.research.google.com/github/vpste1/mlscrapbook/blob/master/BaselineMNIST.ipynb\" target=\"_parent\"><img src=\"https://colab.research.google.com/assets/colab-badge.svg\" alt=\"Open In Colab\"/></a>"
      ]
    },
    {
      "cell_type": "code",
      "metadata": {
        "colab": {
          "base_uri": "https://localhost:8080/"
        },
        "id": "PAp-aKo4e5Ii",
        "outputId": "18a840df-4193-44fb-eac1-92cf6527d43b"
      },
      "source": [
        "!pip install -Uqq fastbook\n",
        "import fastbook\n",
        "fastbook.setup_book()"
      ],
      "execution_count": null,
      "outputs": [
        {
          "output_type": "stream",
          "text": [
            "\u001b[K     |████████████████████████████████| 727kB 12.8MB/s \n",
            "\u001b[K     |████████████████████████████████| 1.1MB 58.0MB/s \n",
            "\u001b[K     |████████████████████████████████| 51kB 9.7MB/s \n",
            "\u001b[K     |████████████████████████████████| 194kB 57.3MB/s \n",
            "\u001b[K     |████████████████████████████████| 61kB 10.2MB/s \n",
            "\u001b[?25hMounted at /content/gdrive\n"
          ],
          "name": "stdout"
        }
      ]
    },
    {
      "cell_type": "code",
      "metadata": {
        "id": "HCrzUcp7fCB1"
      },
      "source": [
        "from fastai.vision.all import *\n",
        "from fastbook import *\n",
        "\n",
        "matplotlib.rc('image', cmap='Greys')"
      ],
      "execution_count": null,
      "outputs": []
    },
    {
      "cell_type": "code",
      "metadata": {
        "colab": {
          "base_uri": "https://localhost:8080/",
          "height": 17
        },
        "id": "TGAlHq92fPqL",
        "outputId": "09798ca4-33bc-41a6-a938-f1313498207c"
      },
      "source": [
        "path = untar_data(URLs.MNIST_SAMPLE)\n",
        "Path.BASE_PATH = path"
      ],
      "execution_count": null,
      "outputs": [
        {
          "output_type": "display_data",
          "data": {
            "text/html": [
              ""
            ],
            "text/plain": [
              "<IPython.core.display.HTML object>"
            ]
          },
          "metadata": {
            "tags": []
          }
        }
      ]
    },
    {
      "cell_type": "markdown",
      "metadata": {
        "id": "56f3I0kif6cM"
      },
      "source": [
        "Load the training sets"
      ]
    },
    {
      "cell_type": "code",
      "metadata": {
        "colab": {
          "base_uri": "https://localhost:8080/"
        },
        "id": "Gm07jnwcf7-x",
        "outputId": "f95663da-b927-4607-b225-ec1f445b117b"
      },
      "source": [
        "train_3_tens = torch.stack([tensor(Image.open(o)) \n",
        "                            for o in (path/'train'/'3').ls()])\n",
        "train_3_tens = train_3_tens.float()/255\n",
        "train_7_tens = torch.stack([tensor(Image.open(o)) \n",
        "                            for o in (path/'train'/'7').ls()])\n",
        "train_7_tens = train_7_tens.float()/255\n",
        "train_3_tens.shape,train_7_tens.shape"
      ],
      "execution_count": null,
      "outputs": [
        {
          "output_type": "execute_result",
          "data": {
            "text/plain": [
              "(torch.Size([6131, 28, 28]), torch.Size([6265, 28, 28]))"
            ]
          },
          "metadata": {
            "tags": []
          },
          "execution_count": 10
        }
      ]
    },
    {
      "cell_type": "markdown",
      "metadata": {
        "id": "NcLcQF_7f2V0"
      },
      "source": [
        "Load the validation sets"
      ]
    },
    {
      "cell_type": "code",
      "metadata": {
        "colab": {
          "base_uri": "https://localhost:8080/"
        },
        "id": "nXkPHoPEfUWs",
        "outputId": "82449716-41f9-4823-db56-8b1837f94a72"
      },
      "source": [
        "valid_3_tens = torch.stack([tensor(Image.open(o)) \n",
        "                            for o in (path/'valid'/'3').ls()])\n",
        "valid_3_tens = valid_3_tens.float()/255\n",
        "valid_7_tens = torch.stack([tensor(Image.open(o)) \n",
        "                            for o in (path/'valid'/'7').ls()])\n",
        "valid_7_tens = valid_7_tens.float()/255\n",
        "valid_3_tens.shape,valid_7_tens.shape"
      ],
      "execution_count": null,
      "outputs": [
        {
          "output_type": "execute_result",
          "data": {
            "text/plain": [
              "(torch.Size([1010, 28, 28]), torch.Size([1028, 28, 28]))"
            ]
          },
          "metadata": {
            "tags": []
          },
          "execution_count": 11
        }
      ]
    },
    {
      "cell_type": "markdown",
      "metadata": {
        "id": "EF8b87vZgZgD"
      },
      "source": [
        "Generate the means of the training set"
      ]
    },
    {
      "cell_type": "code",
      "metadata": {
        "colab": {
          "base_uri": "https://localhost:8080/"
        },
        "id": "COkvxeBPgdEQ",
        "outputId": "4f88a502-31c2-4100-cc71-f7b925d715ca"
      },
      "source": [
        "mean3 = train_3_tens.mean(0)\n",
        "mean7 = train_7_tens.mean(0)\n",
        "\n",
        "mean3.shape"
      ],
      "execution_count": null,
      "outputs": [
        {
          "output_type": "execute_result",
          "data": {
            "text/plain": [
              "torch.Size([28, 28])"
            ]
          },
          "metadata": {
            "tags": []
          },
          "execution_count": 13
        }
      ]
    },
    {
      "cell_type": "markdown",
      "metadata": {
        "id": "WUxMnJ0vgDyP"
      },
      "source": [
        "Define a function to return the mean absolute error (L1 norm).\n",
        "\n",
        "Specifying the tuple `(-1, -2)` is redundant when inputting two rank-2 tensors. (e.g. `.mean()` would end up with the same output.\n",
        "\n",
        "It is however useful when making use of broadcasting; e.g. if you were to send in a rank-3 as `a` and a rank-2 as `b`; we specified the \"last two\" axes with `(-1, -2)`; which will output a rank-1 (list) of distances (rather than a single mnist difference). \n",
        "\n",
        "*Broadcasting behind the scenes is PyTorch automatically \"expanding\" the tensor with the smaller rank to have the same **size** as the one with the larger rank. (it doesn't actually allocate memory to this expansion however)*"
      ]
    },
    {
      "cell_type": "code",
      "metadata": {
        "id": "BJXR3wvbfuop"
      },
      "source": [
        "def mnist_distance(a,b): return (a-b).abs().mean((-1,-2))"
      ],
      "execution_count": null,
      "outputs": []
    },
    {
      "cell_type": "code",
      "metadata": {
        "colab": {
          "base_uri": "https://localhost:8080/"
        },
        "id": "WgfIt5MZhP3Z",
        "outputId": "776fb0f9-ee59-46ed-8b89-0a1e351ceb8c"
      },
      "source": [
        "mnist_distance(train_3_tens, mean3)"
      ],
      "execution_count": null,
      "outputs": [
        {
          "output_type": "execute_result",
          "data": {
            "text/plain": [
              "tensor([0.1280, 0.1496, 0.1128,  ..., 0.1381, 0.1183, 0.1183])"
            ]
          },
          "metadata": {
            "tags": []
          },
          "execution_count": 24
        }
      ]
    },
    {
      "cell_type": "markdown",
      "metadata": {
        "id": "eE7kJNbAj5BV"
      },
      "source": [
        "We can make use of this function to define a simple \"is-3\" qualifier:"
      ]
    },
    {
      "cell_type": "code",
      "metadata": {
        "id": "0MXRK-L9j-At"
      },
      "source": [
        "def is_3(x): return mnist_distance(x,mean3) < mnist_distance(x,mean7)"
      ],
      "execution_count": null,
      "outputs": []
    },
    {
      "cell_type": "code",
      "metadata": {
        "colab": {
          "base_uri": "https://localhost:8080/"
        },
        "id": "-xdPz-VekEgA",
        "outputId": "7b94655a-3e67-4ffe-dbbc-a86950d34a4b"
      },
      "source": [
        "is_3(valid_3_tens)"
      ],
      "execution_count": null,
      "outputs": [
        {
          "output_type": "execute_result",
          "data": {
            "text/plain": [
              "tensor([True, True, True,  ..., True, True, True])"
            ]
          },
          "metadata": {
            "tags": []
          },
          "execution_count": 26
        }
      ]
    },
    {
      "cell_type": "markdown",
      "metadata": {
        "id": "arS9A0mYkFlV"
      },
      "source": [
        "A list of booleans needs to be converted to floats in order to calculate the accuracy. The accuracy of the 7s will be when they are \"not 3\"; and the overall accuracy across both sets is the average of these two."
      ]
    },
    {
      "cell_type": "code",
      "metadata": {
        "colab": {
          "base_uri": "https://localhost:8080/"
        },
        "id": "BCcafD5qkNMI",
        "outputId": "42be6bc3-b311-4084-d1d5-7643fcf8360f"
      },
      "source": [
        "accuracy_3s =      is_3(valid_3_tens).float() .mean()\n",
        "accuracy_7s = (1 - is_3(valid_7_tens).float()).mean()\n",
        "\n",
        "accuracy_3s,accuracy_7s,(accuracy_3s+accuracy_7s)/2"
      ],
      "execution_count": null,
      "outputs": [
        {
          "output_type": "execute_result",
          "data": {
            "text/plain": [
              "(tensor(0.9168), tensor(0.9854), tensor(0.9511))"
            ]
          },
          "metadata": {
            "tags": []
          },
          "execution_count": 27
        }
      ]
    },
    {
      "cell_type": "markdown",
      "metadata": {
        "id": "Ffu5bF4IkksC"
      },
      "source": [
        "We can say our \"3-detector\" is around 95% accurate despite being a primitive solution. Establishing a baseline can help compare future models as it can be hard to tell if \"fancy\" models are actually any good."
      ]
    }
  ]
}
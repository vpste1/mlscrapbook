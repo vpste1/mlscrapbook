{
  "nbformat": 4,
  "nbformat_minor": 0,
  "metadata": {
    "colab": {
      "name": "PetBreeds",
      "provenance": [],
      "authorship_tag": "ABX9TyN6pKltR+D6xHK37UbNqemV",
      "include_colab_link": true
    },
    "kernelspec": {
      "name": "python3",
      "display_name": "Python 3"
    },
    "accelerator": "GPU",
    "widgets": {
      "application/vnd.jupyter.widget-state+json": {
        "c7d9743d5bff42eba07735bf7b01d11b": {
          "model_module": "@jupyter-widgets/controls",
          "model_name": "HBoxModel",
          "state": {
            "_view_name": "HBoxView",
            "_dom_classes": [],
            "_model_name": "HBoxModel",
            "_view_module": "@jupyter-widgets/controls",
            "_model_module_version": "1.5.0",
            "_view_count": null,
            "_view_module_version": "1.5.0",
            "box_style": "",
            "layout": "IPY_MODEL_0b90a8c6cf274f12868d5eff79386f2b",
            "_model_module": "@jupyter-widgets/controls",
            "children": [
              "IPY_MODEL_863d4b90a072465c8949bba5cebe4d04",
              "IPY_MODEL_932ab644c8754d35a176d1cd7ef3814a"
            ]
          }
        },
        "0b90a8c6cf274f12868d5eff79386f2b": {
          "model_module": "@jupyter-widgets/base",
          "model_name": "LayoutModel",
          "state": {
            "_view_name": "LayoutView",
            "grid_template_rows": null,
            "right": null,
            "justify_content": null,
            "_view_module": "@jupyter-widgets/base",
            "overflow": null,
            "_model_module_version": "1.2.0",
            "_view_count": null,
            "flex_flow": null,
            "width": null,
            "min_width": null,
            "border": null,
            "align_items": null,
            "bottom": null,
            "_model_module": "@jupyter-widgets/base",
            "top": null,
            "grid_column": null,
            "overflow_y": null,
            "overflow_x": null,
            "grid_auto_flow": null,
            "grid_area": null,
            "grid_template_columns": null,
            "flex": null,
            "_model_name": "LayoutModel",
            "justify_items": null,
            "grid_row": null,
            "max_height": null,
            "align_content": null,
            "visibility": null,
            "align_self": null,
            "height": null,
            "min_height": null,
            "padding": null,
            "grid_auto_rows": null,
            "grid_gap": null,
            "max_width": null,
            "order": null,
            "_view_module_version": "1.2.0",
            "grid_template_areas": null,
            "object_position": null,
            "object_fit": null,
            "grid_auto_columns": null,
            "margin": null,
            "display": null,
            "left": null
          }
        },
        "863d4b90a072465c8949bba5cebe4d04": {
          "model_module": "@jupyter-widgets/controls",
          "model_name": "FloatProgressModel",
          "state": {
            "_view_name": "ProgressView",
            "style": "IPY_MODEL_f7fa3f257ab342ddb2308d337ddc0692",
            "_dom_classes": [],
            "description": "100%",
            "_model_name": "FloatProgressModel",
            "bar_style": "success",
            "max": 87306240,
            "_view_module": "@jupyter-widgets/controls",
            "_model_module_version": "1.5.0",
            "value": 87306240,
            "_view_count": null,
            "_view_module_version": "1.5.0",
            "orientation": "horizontal",
            "min": 0,
            "description_tooltip": null,
            "_model_module": "@jupyter-widgets/controls",
            "layout": "IPY_MODEL_c90eb4abbb814774839e88b7cc507196"
          }
        },
        "932ab644c8754d35a176d1cd7ef3814a": {
          "model_module": "@jupyter-widgets/controls",
          "model_name": "HTMLModel",
          "state": {
            "_view_name": "HTMLView",
            "style": "IPY_MODEL_079eb1af56414bfd8c263981816f526b",
            "_dom_classes": [],
            "description": "",
            "_model_name": "HTMLModel",
            "placeholder": "​",
            "_view_module": "@jupyter-widgets/controls",
            "_model_module_version": "1.5.0",
            "value": " 83.3M/83.3M [00:51&lt;00:00, 1.69MB/s]",
            "_view_count": null,
            "_view_module_version": "1.5.0",
            "description_tooltip": null,
            "_model_module": "@jupyter-widgets/controls",
            "layout": "IPY_MODEL_eef787a0d8024698852e6dd67fd00b73"
          }
        },
        "f7fa3f257ab342ddb2308d337ddc0692": {
          "model_module": "@jupyter-widgets/controls",
          "model_name": "ProgressStyleModel",
          "state": {
            "_view_name": "StyleView",
            "_model_name": "ProgressStyleModel",
            "description_width": "initial",
            "_view_module": "@jupyter-widgets/base",
            "_model_module_version": "1.5.0",
            "_view_count": null,
            "_view_module_version": "1.2.0",
            "bar_color": null,
            "_model_module": "@jupyter-widgets/controls"
          }
        },
        "c90eb4abbb814774839e88b7cc507196": {
          "model_module": "@jupyter-widgets/base",
          "model_name": "LayoutModel",
          "state": {
            "_view_name": "LayoutView",
            "grid_template_rows": null,
            "right": null,
            "justify_content": null,
            "_view_module": "@jupyter-widgets/base",
            "overflow": null,
            "_model_module_version": "1.2.0",
            "_view_count": null,
            "flex_flow": null,
            "width": null,
            "min_width": null,
            "border": null,
            "align_items": null,
            "bottom": null,
            "_model_module": "@jupyter-widgets/base",
            "top": null,
            "grid_column": null,
            "overflow_y": null,
            "overflow_x": null,
            "grid_auto_flow": null,
            "grid_area": null,
            "grid_template_columns": null,
            "flex": null,
            "_model_name": "LayoutModel",
            "justify_items": null,
            "grid_row": null,
            "max_height": null,
            "align_content": null,
            "visibility": null,
            "align_self": null,
            "height": null,
            "min_height": null,
            "padding": null,
            "grid_auto_rows": null,
            "grid_gap": null,
            "max_width": null,
            "order": null,
            "_view_module_version": "1.2.0",
            "grid_template_areas": null,
            "object_position": null,
            "object_fit": null,
            "grid_auto_columns": null,
            "margin": null,
            "display": null,
            "left": null
          }
        },
        "079eb1af56414bfd8c263981816f526b": {
          "model_module": "@jupyter-widgets/controls",
          "model_name": "DescriptionStyleModel",
          "state": {
            "_view_name": "StyleView",
            "_model_name": "DescriptionStyleModel",
            "description_width": "",
            "_view_module": "@jupyter-widgets/base",
            "_model_module_version": "1.5.0",
            "_view_count": null,
            "_view_module_version": "1.2.0",
            "_model_module": "@jupyter-widgets/controls"
          }
        },
        "eef787a0d8024698852e6dd67fd00b73": {
          "model_module": "@jupyter-widgets/base",
          "model_name": "LayoutModel",
          "state": {
            "_view_name": "LayoutView",
            "grid_template_rows": null,
            "right": null,
            "justify_content": null,
            "_view_module": "@jupyter-widgets/base",
            "overflow": null,
            "_model_module_version": "1.2.0",
            "_view_count": null,
            "flex_flow": null,
            "width": null,
            "min_width": null,
            "border": null,
            "align_items": null,
            "bottom": null,
            "_model_module": "@jupyter-widgets/base",
            "top": null,
            "grid_column": null,
            "overflow_y": null,
            "overflow_x": null,
            "grid_auto_flow": null,
            "grid_area": null,
            "grid_template_columns": null,
            "flex": null,
            "_model_name": "LayoutModel",
            "justify_items": null,
            "grid_row": null,
            "max_height": null,
            "align_content": null,
            "visibility": null,
            "align_self": null,
            "height": null,
            "min_height": null,
            "padding": null,
            "grid_auto_rows": null,
            "grid_gap": null,
            "max_width": null,
            "order": null,
            "_view_module_version": "1.2.0",
            "grid_template_areas": null,
            "object_position": null,
            "object_fit": null,
            "grid_auto_columns": null,
            "margin": null,
            "display": null,
            "left": null
          }
        }
      }
    }
  },
  "cells": [
    {
      "cell_type": "markdown",
      "metadata": {
        "id": "view-in-github",
        "colab_type": "text"
      },
      "source": [
        "<a href=\"https://colab.research.google.com/github/vpste1/mlscrapbook/blob/master/PetBreeds.ipynb\" target=\"_parent\"><img src=\"https://colab.research.google.com/assets/colab-badge.svg\" alt=\"Open In Colab\"/></a>"
      ]
    },
    {
      "cell_type": "code",
      "metadata": {
        "id": "kFWIDHIDMOuH",
        "colab": {
          "base_uri": "https://localhost:8080/"
        },
        "outputId": "1ddf4118-7a82-46d8-ca81-a93f45f3d3a6"
      },
      "source": [
        "#hide\n",
        "!pip install -Uqq fastbook\n",
        "import fastbook\n",
        "fastbook.setup_book()"
      ],
      "execution_count": 1,
      "outputs": [
        {
          "output_type": "stream",
          "text": [
            "\u001b[K     |████████████████████████████████| 727kB 22.9MB/s \n",
            "\u001b[K     |████████████████████████████████| 194kB 52.3MB/s \n",
            "\u001b[K     |████████████████████████████████| 51kB 8.2MB/s \n",
            "\u001b[K     |████████████████████████████████| 1.1MB 55.2MB/s \n",
            "\u001b[K     |████████████████████████████████| 61kB 10.3MB/s \n",
            "\u001b[?25hMounted at /content/gdrive\n"
          ],
          "name": "stdout"
        }
      ]
    },
    {
      "cell_type": "code",
      "metadata": {
        "id": "2yerw9KAMOuM"
      },
      "source": [
        "#hide\n",
        "from fastbook import *"
      ],
      "execution_count": 2,
      "outputs": []
    },
    {
      "cell_type": "code",
      "metadata": {
        "id": "9p2EwizyMOuO",
        "colab": {
          "base_uri": "https://localhost:8080/",
          "height": 17
        },
        "outputId": "57adf4e1-71f3-4c0c-c818-794b2dae0561"
      },
      "source": [
        "from fastai.vision.all import *\n",
        "path = untar_data(URLs.PETS)"
      ],
      "execution_count": 3,
      "outputs": [
        {
          "output_type": "display_data",
          "data": {
            "text/html": [
              ""
            ],
            "text/plain": [
              "<IPython.core.display.HTML object>"
            ]
          },
          "metadata": {
            "tags": []
          }
        }
      ]
    },
    {
      "cell_type": "code",
      "metadata": {
        "id": "dBR0psUWMOuP"
      },
      "source": [
        "#hide\n",
        "Path.BASE_PATH = path"
      ],
      "execution_count": 4,
      "outputs": []
    },
    {
      "cell_type": "code",
      "metadata": {
        "id": "4IoSUnOAMOuP",
        "colab": {
          "base_uri": "https://localhost:8080/"
        },
        "outputId": "ab543365-3f64-42a8-c869-590e1b0c7493"
      },
      "source": [
        "path.ls()"
      ],
      "execution_count": 5,
      "outputs": [
        {
          "output_type": "execute_result",
          "data": {
            "text/plain": [
              "(#2) [Path('images'),Path('annotations')]"
            ]
          },
          "metadata": {
            "tags": []
          },
          "execution_count": 5
        }
      ]
    },
    {
      "cell_type": "code",
      "metadata": {
        "id": "1eH3ZN8ZMOuQ",
        "colab": {
          "base_uri": "https://localhost:8080/"
        },
        "outputId": "1d45938e-dfac-4291-d9d5-a071374b9cca"
      },
      "source": [
        "(path/\"images\").ls()"
      ],
      "execution_count": 6,
      "outputs": [
        {
          "output_type": "execute_result",
          "data": {
            "text/plain": [
              "(#7393) [Path('images/basset_hound_116.jpg'),Path('images/pomeranian_70.jpg'),Path('images/Maine_Coon_13.jpg'),Path('images/Birman_35.jpg'),Path('images/keeshond_119.jpg'),Path('images/staffordshire_bull_terrier_105.jpg'),Path('images/miniature_pinscher_77.jpg'),Path('images/shiba_inu_108.jpg'),Path('images/american_bulldog_140.jpg'),Path('images/havanese_25.jpg')...]"
            ]
          },
          "metadata": {
            "tags": []
          },
          "execution_count": 6
        }
      ]
    },
    {
      "cell_type": "code",
      "metadata": {
        "id": "Vk62BIzBMOuS"
      },
      "source": [
        "pets = DataBlock(blocks = (ImageBlock, CategoryBlock),\n",
        "                 get_items=get_image_files, \n",
        "                 splitter=RandomSplitter(seed=42),\n",
        "                 get_y=using_attr(RegexLabeller(r'(.+)_\\d+.jpg$'), 'name'),\n",
        "                 item_tfms=Resize(460),\n",
        "                 batch_tfms=aug_transforms(size=224, min_scale=0.75))\n",
        "dls = pets.dataloaders(path/\"images\")"
      ],
      "execution_count": 7,
      "outputs": []
    },
    {
      "cell_type": "code",
      "metadata": {
        "colab": {
          "base_uri": "https://localhost:8080/",
          "height": 195
        },
        "id": "X1WrjBsyZYvU",
        "outputId": "ef4a0151-4d61-4e6a-f657-66736fe339a5"
      },
      "source": [
        "dls.show_batch(nrows=1, ncols=3)"
      ],
      "execution_count": 8,
      "outputs": [
        {
          "output_type": "display_data",
          "data": {
            "image/png": "[encoded data removed]",
            "text/plain": [
              "<Figure size 648x216 with 3 Axes>"
            ]
          },
          "metadata": {
            "tags": [],
            "needs_background": "light"
          }
        }
      ]
    },
    {
      "cell_type": "markdown",
      "metadata": {
        "id": "98UIp1ZRcDlP"
      },
      "source": [
        "In order to valdiate any mistakes in your `DataBlock` you can run the `summary` method. It will attempt to create a batch from the source you give it (the dataloader below is missing item transforms):"
      ]
    },
    {
      "cell_type": "code",
      "metadata": {
        "id": "v6bO4Be-cRkb"
      },
      "source": [
        "bad_pets_block = DataBlock(blocks = (ImageBlock, CategoryBlock),\r\n",
        "                 get_items=get_image_files, \r\n",
        "                 splitter=RandomSplitter(seed=42),\r\n",
        "                 get_y=using_attr(RegexLabeller(r'(.+)_\\d+.jpg$'), 'name'))\r\n",
        "bad_pets_block.summary(path/\"images\")"
      ],
      "execution_count": null,
      "outputs": []
    },
    {
      "cell_type": "markdown",
      "metadata": {
        "id": "Csq2xdGmdFFB"
      },
      "source": [
        "As soon as your data is looking right, it's good to jump in to a preliminary training of your model to implement a few checks. Below trains our original `DataLoaders` for 2 epochs using the `resnet34` pretrained model (transfer learning again)."
      ]
    },
    {
      "cell_type": "code",
      "metadata": {
        "colab": {
          "base_uri": "https://localhost:8080/",
          "height": 240,
          "referenced_widgets": [
            "c7d9743d5bff42eba07735bf7b01d11b",
            "0b90a8c6cf274f12868d5eff79386f2b",
            "863d4b90a072465c8949bba5cebe4d04",
            "932ab644c8754d35a176d1cd7ef3814a",
            "f7fa3f257ab342ddb2308d337ddc0692",
            "c90eb4abbb814774839e88b7cc507196",
            "079eb1af56414bfd8c263981816f526b",
            "eef787a0d8024698852e6dd67fd00b73"
          ]
        },
        "id": "_Z8cImEkdEqK",
        "outputId": "88327fdd-0ebe-45d2-cd10-892ce5cf129e"
      },
      "source": [
        "learn = cnn_learner(dls, resnet34, metrics=error_rate)\r\n",
        "learn.fine_tune(2)"
      ],
      "execution_count": 9,
      "outputs": [
        {
          "output_type": "stream",
          "text": [
            "Downloading: \"https://download.pytorch.org/models/resnet34-333f7ec4.pth\" to /root/.cache/torch/hub/checkpoints/resnet34-333f7ec4.pth\n"
          ],
          "name": "stderr"
        },
        {
          "output_type": "display_data",
          "data": {
            "application/vnd.jupyter.widget-view+json": {
              "model_id": "c7d9743d5bff42eba07735bf7b01d11b",
              "version_minor": 0,
              "version_major": 2
            },
            "text/plain": [
              "HBox(children=(FloatProgress(value=0.0, max=87306240.0), HTML(value='')))"
            ]
          },
          "metadata": {
            "tags": []
          }
        },
        {
          "output_type": "stream",
          "text": [
            "\n"
          ],
          "name": "stdout"
        },
        {
          "output_type": "display_data",
          "data": {
            "text/html": [
              "<table border=\"1\" class=\"dataframe\">\n",
              "  <thead>\n",
              "    <tr style=\"text-align: left;\">\n",
              "      <th>epoch</th>\n",
              "      <th>train_loss</th>\n",
              "      <th>valid_loss</th>\n",
              "      <th>error_rate</th>\n",
              "      <th>time</th>\n",
              "    </tr>\n",
              "  </thead>\n",
              "  <tbody>\n",
              "    <tr>\n",
              "      <td>0</td>\n",
              "      <td>1.539708</td>\n",
              "      <td>0.318083</td>\n",
              "      <td>0.102842</td>\n",
              "      <td>01:11</td>\n",
              "    </tr>\n",
              "  </tbody>\n",
              "</table>"
            ],
            "text/plain": [
              "<IPython.core.display.HTML object>"
            ]
          },
          "metadata": {
            "tags": []
          }
        },
        {
          "output_type": "display_data",
          "data": {
            "text/html": [
              "<table border=\"1\" class=\"dataframe\">\n",
              "  <thead>\n",
              "    <tr style=\"text-align: left;\">\n",
              "      <th>epoch</th>\n",
              "      <th>train_loss</th>\n",
              "      <th>valid_loss</th>\n",
              "      <th>error_rate</th>\n",
              "      <th>time</th>\n",
              "    </tr>\n",
              "  </thead>\n",
              "  <tbody>\n",
              "    <tr>\n",
              "      <td>0</td>\n",
              "      <td>0.479673</td>\n",
              "      <td>0.282081</td>\n",
              "      <td>0.086604</td>\n",
              "      <td>01:16</td>\n",
              "    </tr>\n",
              "    <tr>\n",
              "      <td>1</td>\n",
              "      <td>0.314507</td>\n",
              "      <td>0.227741</td>\n",
              "      <td>0.071719</td>\n",
              "      <td>01:16</td>\n",
              "    </tr>\n",
              "  </tbody>\n",
              "</table>"
            ],
            "text/plain": [
              "<IPython.core.display.HTML object>"
            ]
          },
          "metadata": {
            "tags": []
          }
        }
      ]
    },
    {
      "cell_type": "markdown",
      "metadata": {
        "id": "TJQP7G0VdoEF"
      },
      "source": [
        "In the MNIST Loss example, we made use of a simple loss function; its core was mapping a prediction to a sigmoid function to tell if something was more a \"3\" (1) or a \"7\" (0). \r\n",
        "\r\n",
        "When moving away from a binary classification, we need a better way of predicting with multiple categories, and subsequently a better loss function to improve those predictions.\r\n",
        "\r\n",
        "**Cross-Entropy Loss** is:\r\n",
        "\r\n",
        "- Faster and more reliable in training\r\n",
        "- Can be used when the dependant variable has more than 2 categories"
      ]
    },
    {
      "cell_type": "markdown",
      "metadata": {
        "id": "Rcnc1SQdMOuY"
      },
      "source": [
        "Let's take a look at the activations of our model. To actually get a batch of real data from our `DataLoaders`, we can use the `one_batch` method:"
      ]
    },
    {
      "cell_type": "code",
      "metadata": {
        "id": "Izrm1BVoMOuY"
      },
      "source": [
        "x,y = dls.one_batch()"
      ],
      "execution_count": 10,
      "outputs": []
    },
    {
      "cell_type": "markdown",
      "metadata": {
        "id": "Y4nMvkXCMOuY"
      },
      "source": [
        "When we look at our dependant variable, we see a list of integers; each a number between 0 and 36, representing one of the 37 different pet breeds:"
      ]
    },
    {
      "cell_type": "code",
      "metadata": {
        "id": "LJ1bqWg_MOuY",
        "colab": {
          "base_uri": "https://localhost:8080/"
        },
        "outputId": "439f11a2-a292-46f1-b5d4-6ee376db3385"
      },
      "source": [
        " y"
      ],
      "execution_count": 11,
      "outputs": [
        {
          "output_type": "execute_result",
          "data": {
            "text/plain": [
              "TensorCategory([12,  6, 11, 16,  6,  8, 26,  1, 29, 20, 17,  7, 16, 28, 21, 34, 17, 15,  7, 12, 29, 33, 34, 28, 11, 21,  7,  0, 29, 33,  1, 36, 32, 34, 14, 27, 25, 29,  1, 18, 14, 13, 15,  8, 36,  7, 25, 20,\n",
              "        32, 11, 23, 13, 26,  1,  9, 12, 12, 23,  0, 21,  8, 23, 11, 26], device='cuda:0')"
            ]
          },
          "metadata": {
            "tags": []
          },
          "execution_count": 11
        }
      ]
    },
    {
      "cell_type": "markdown",
      "metadata": {
        "id": "cpfm4XeEkER_"
      },
      "source": [
        "The predictions from our classification model are 37 different probabilities between 0 and 1, and add up to 1 in total:"
      ]
    },
    {
      "cell_type": "code",
      "metadata": {
        "id": "An3cIr1URjtm",
        "colab": {
          "base_uri": "https://localhost:8080/",
          "height": 88
        },
        "outputId": "ae617584-16a3-47d5-bb5d-0b103a5c8b89"
      },
      "source": [
        "preds,_ = learn.get_preds(dl=[(x,y)])\n",
        "preds[0]"
      ],
      "execution_count": 12,
      "outputs": [
        {
          "output_type": "display_data",
          "data": {
            "text/html": [
              ""
            ],
            "text/plain": [
              "<IPython.core.display.HTML object>"
            ]
          },
          "metadata": {
            "tags": []
          }
        },
        {
          "output_type": "execute_result",
          "data": {
            "text/plain": [
              "tensor([3.1886e-08, 4.4695e-07, 5.7754e-08, 2.4548e-06, 1.4848e-07, 2.3118e-06, 6.8144e-08, 1.0977e-06, 3.4287e-07, 2.6985e-07, 8.0403e-08, 4.3160e-06, 9.9721e-01, 1.5605e-03, 1.0076e-07, 7.9340e-07,\n",
              "        9.0275e-05, 3.0863e-07, 2.0855e-06, 9.3831e-05, 1.0131e-05, 1.5073e-06, 7.4536e-06, 4.6004e-07, 2.4983e-07, 3.0055e-08, 2.3372e-06, 5.1118e-06, 5.9165e-08, 1.4856e-05, 2.5006e-06, 2.0571e-07,\n",
              "        2.6607e-06, 4.6949e-07, 9.7722e-04, 2.2415e-07, 1.7095e-06])"
            ]
          },
          "metadata": {
            "tags": []
          },
          "execution_count": 12
        }
      ]
    },
    {
      "cell_type": "markdown",
      "metadata": {
        "id": "ggIsGr63kPJf"
      },
      "source": [
        "##Softmax\r\n",
        "\r\n",
        "Transforming our activations from the model into predictions like this is done using **softmax** activation function. Taking a step back to a binary classifier can help in explaining to bridge between our previously used sigmoid function and softmax.\r\n",
        "\r\n",
        "If we have 6 images with 2 possible categories (akin to 3 vs 7 MNIST), and generate a random set of activations (outputs from one layer) like so: "
      ]
    },
    {
      "cell_type": "code",
      "metadata": {
        "id": "THOLYLdsRjtn"
      },
      "source": [
        "#hide\n",
        "torch.random.manual_seed(42);"
      ],
      "execution_count": 13,
      "outputs": []
    },
    {
      "cell_type": "code",
      "metadata": {
        "id": "GNAM2PgkRjtn",
        "colab": {
          "base_uri": "https://localhost:8080/"
        },
        "outputId": "4bee3a7e-f8f5-483e-cd49-13a20db362ed"
      },
      "source": [
        "acts = torch.randn((6,2))*2\n",
        "acts"
      ],
      "execution_count": 14,
      "outputs": [
        {
          "output_type": "execute_result",
          "data": {
            "text/plain": [
              "tensor([[ 0.6734,  0.2576],\n",
              "        [ 0.4689,  0.4607],\n",
              "        [-2.2457, -0.3727],\n",
              "        [ 4.4164, -1.2760],\n",
              "        [ 0.9233,  0.5347],\n",
              "        [ 1.0698,  1.6187]])"
            ]
          },
          "metadata": {
            "tags": []
          },
          "execution_count": 14
        }
      ]
    },
    {
      "cell_type": "markdown",
      "metadata": {
        "id": "t6oIdp3zk8Ol"
      },
      "source": [
        "The sigmoid of this activation directly gives us the relative confidence between 0 and 1 of whether it was one image or the other. But these individual rows wouldn't add up to 1:"
      ]
    },
    {
      "cell_type": "code",
      "metadata": {
        "id": "VY48MODSRjtn",
        "colab": {
          "base_uri": "https://localhost:8080/"
        },
        "outputId": "84f08e94-477f-4e7c-9de0-e545c1cd5dcc"
      },
      "source": [
        "acts.sigmoid()"
      ],
      "execution_count": 15,
      "outputs": [
        {
          "output_type": "execute_result",
          "data": {
            "text/plain": [
              "tensor([[0.6623, 0.5641],\n",
              "        [0.6151, 0.6132],\n",
              "        [0.0957, 0.4079],\n",
              "        [0.9881, 0.2182],\n",
              "        [0.7157, 0.6306],\n",
              "        [0.7446, 0.8346]])"
            ]
          },
          "metadata": {
            "tags": []
          },
          "execution_count": 15
        }
      ]
    },
    {
      "cell_type": "markdown",
      "metadata": {
        "id": "iusHGMyhl9yG"
      },
      "source": [
        "We can take the difference between the activations (as that reflects how confident we are of a 3 vs a 7) and take the sigmoid of that relative value:"
      ]
    },
    {
      "cell_type": "code",
      "metadata": {
        "id": "uLhOqXGrRjto",
        "colab": {
          "base_uri": "https://localhost:8080/"
        },
        "outputId": "39611084-f770-4713-d82d-9ca242cdf93e"
      },
      "source": [
        "(acts[:,0]-acts[:,1]).sigmoid()"
      ],
      "execution_count": 16,
      "outputs": [
        {
          "output_type": "execute_result",
          "data": {
            "text/plain": [
              "tensor([0.6025, 0.5021, 0.1332, 0.9966, 0.5959, 0.3661])"
            ]
          },
          "metadata": {
            "tags": []
          },
          "execution_count": 16
        }
      ]
    },
    {
      "cell_type": "markdown",
      "metadata": {
        "id": "mgLi7yMpmOGD"
      },
      "source": [
        "The second column would now  just be that value subtracted from 1. The softmax function performs this same method when there are more than 2 columns, but also incorporates the use of exponent to keep all values positive, and to emphasise difference:\r\n",
        "\r\n",
        "``` python\r\n",
        "def softmax(x): return exp(x) / exp(x).sum(dim=1, keepdim=True)\r\n",
        "```"
      ]
    },
    {
      "cell_type": "code",
      "metadata": {
        "id": "-k6qzmVKRjto",
        "colab": {
          "base_uri": "https://localhost:8080/"
        },
        "outputId": "01d53793-ead3-41bf-8a9e-30aed43be32a"
      },
      "source": [
        "sm_acts = torch.softmax(acts, dim=1)\n",
        "sm_acts"
      ],
      "execution_count": 17,
      "outputs": [
        {
          "output_type": "execute_result",
          "data": {
            "text/plain": [
              "tensor([[0.6025, 0.3975],\n",
              "        [0.5021, 0.4979],\n",
              "        [0.1332, 0.8668],\n",
              "        [0.9966, 0.0034],\n",
              "        [0.5959, 0.4041],\n",
              "        [0.3661, 0.6339]])"
            ]
          },
          "metadata": {
            "tags": []
          },
          "execution_count": 17
        }
      ]
    },
    {
      "cell_type": "markdown",
      "metadata": {
        "id": "FRi1gcLpn0jL"
      },
      "source": [
        "An example may be an array of activations for bear types like so: \r\n",
        "\r\n",
        "```[0.02, -2.49, 1.25]```\r\n",
        "\r\n",
        "The exponent of them would be:\r\n",
        "\r\n",
        "```[1.02, 0.08, 3.49]```\r\n",
        "\r\n",
        "The sum of the exponent would be ```4.60```, so the relative probabilities would be represented as an array like:\r\n",
        "\r\n",
        "```0.22, 0.02, 0.76``` summing to ```1.00```. \r\n",
        "\r\n",
        "In the binary case above for the first activation set of ```[0.6734, 0.2576]``` it would look like so:\r\n",
        "\r\n",
        "```a = e**0.6734, b = e**0.2576```\r\n",
        "\r\n",
        "With the softmax output being:\r\n",
        "\r\n",
        "```[a/(a+b), b/(a+b)]```"
      ]
    },
    {
      "cell_type": "markdown",
      "metadata": {
        "id": "fsp3NQ7PpqMl"
      },
      "source": [
        "Previously in our binary classifier, we attributed the probablity of it not being what we wanted as the loss. When there are more categories, the loss can be considered the confidence in it not being the target. \r\n",
        "\r\n",
        "Once we have all our confidence represented via softmax; we can say the loss is our confidence of our target subracted from 1. "
      ]
    },
    {
      "cell_type": "markdown",
      "metadata": {
        "id": "3g9U-6DZ16rC"
      },
      "source": [
        "##Negative Log Likelihood\r\n",
        "PyTorch provides a function, that when given the activations and the targets of those activations, it will return the respective activations for the targets: "
      ]
    },
    {
      "cell_type": "code",
      "metadata": {
        "id": "1Yg7Pb6fwKdN"
      },
      "source": [
        "targ = tensor([0,1,0,1,1,0])"
      ],
      "execution_count": 21,
      "outputs": []
    },
    {
      "cell_type": "code",
      "metadata": {
        "id": "hxPW3Cl0wKdO",
        "colab": {
          "base_uri": "https://localhost:8080/"
        },
        "outputId": "6aff5209-178c-4413-990f-b9cb3ffd6565"
      },
      "source": [
        "F.nll_loss(sm_acts, targ, reduction='none')"
      ],
      "execution_count": 22,
      "outputs": [
        {
          "output_type": "execute_result",
          "data": {
            "text/plain": [
              "tensor([-0.6025, -0.4979, -0.1332, -0.0034, -0.4041, -0.3661])"
            ]
          },
          "metadata": {
            "tags": []
          },
          "execution_count": 22
        }
      ]
    },
    {
      "cell_type": "markdown",
      "metadata": {
        "id": "kv-LwKoR2eOF"
      },
      "source": [
        "The outputs of this are negative, as the input to `F.nll_loss()` is not meant to be the output of `torch.softmax()` but the output of `torch.log_softmax()`. The reason being, `softmax` whilst this on its own would suffice as a loss function, it's not good at differentiating 0.999 from 0.99 despite there being a 10x confidence difference. Ideally we would stretch this 0->1 to -inf->inf, and can do with log.\r\n",
        "\r\n",
        "Computationally it makes more sense to do the log operation alongside the `softmax` operation, so despite the naming of `F.nll_loss()` the log is taken prior to this function and looks like so:"
      ]
    },
    {
      "cell_type": "code",
      "metadata": {
        "colab": {
          "base_uri": "https://localhost:8080/"
        },
        "id": "BYq2iGku2kqZ",
        "outputId": "8fcc7a08-7615-42dd-e2b4-9f3c0a83c53e"
      },
      "source": [
        "sm_acts_log = torch.log_softmax(acts, dim=1)\r\n",
        "sm_acts_log"
      ],
      "execution_count": 26,
      "outputs": [
        {
          "output_type": "execute_result",
          "data": {
            "text/plain": [
              "tensor([[-5.0672e-01, -9.2248e-01],\n",
              "        [-6.8903e-01, -6.9729e-01],\n",
              "        [-2.0160e+00, -1.4293e-01],\n",
              "        [-3.3658e-03, -5.6958e+00],\n",
              "        [-5.1760e-01, -9.0621e-01],\n",
              "        [-1.0048e+00, -4.5589e-01]])"
            ]
          },
          "metadata": {
            "tags": []
          },
          "execution_count": 26
        }
      ]
    },
    {
      "cell_type": "code",
      "metadata": {
        "colab": {
          "base_uri": "https://localhost:8080/"
        },
        "id": "mB9UG7532trS",
        "outputId": "97f4f1a7-d42c-4de9-96e9-d12de9423dc5"
      },
      "source": [
        "F.nll_loss(sm_acts_log, targ, reduction='none')"
      ],
      "execution_count": 25,
      "outputs": [
        {
          "output_type": "execute_result",
          "data": {
            "text/plain": [
              "tensor([0.5067, 0.6973, 2.0160, 5.6958, 0.9062, 1.0048])"
            ]
          },
          "metadata": {
            "tags": []
          },
          "execution_count": 25
        }
      ]
    },
    {
      "cell_type": "markdown",
      "metadata": {
        "id": "EFmckaNG3mpP"
      },
      "source": [
        "##Combining the two (Cross-entropy loss):\r\n",
        "\r\n",
        "When we combine the softmax and the negative log likelyhood, the result is called *cross-entropy loss*. As we have seen before, PyTorch combines this functionality and provides it as `nn.CrossEntropyLoss` (does `log_softmax` then `nll_loss`). "
      ]
    },
    {
      "cell_type": "code",
      "metadata": {
        "id": "wKxM3KwKwKdQ"
      },
      "source": [
        "loss_func = nn.CrossEntropyLoss()"
      ],
      "execution_count": 27,
      "outputs": []
    },
    {
      "cell_type": "code",
      "metadata": {
        "id": "jCH4WWfxwKdQ",
        "colab": {
          "base_uri": "https://localhost:8080/"
        },
        "outputId": "78774ee8-fc89-4bb3-e936-5fe21cc2c22b"
      },
      "source": [
        "loss_func(acts, targ)"
      ],
      "execution_count": 28,
      "outputs": [
        {
          "output_type": "execute_result",
          "data": {
            "text/plain": [
              "tensor(1.8045)"
            ]
          },
          "metadata": {
            "tags": []
          },
          "execution_count": 28
        }
      ]
    },
    {
      "cell_type": "markdown",
      "metadata": {
        "id": "kM67ZeFM4YLZ"
      },
      "source": [
        "We can also direct it to not reduce the resulting loss tensor into the mean of the values to see the loss for each item:"
      ]
    },
    {
      "cell_type": "code",
      "metadata": {
        "id": "x2b2wQGZ4UVk"
      },
      "source": [
        "loss_func = nn.CrossEntropyLoss(reduction=\"none\")"
      ],
      "execution_count": 29,
      "outputs": []
    },
    {
      "cell_type": "code",
      "metadata": {
        "colab": {
          "base_uri": "https://localhost:8080/"
        },
        "id": "lgDqwcRw4QRa",
        "outputId": "22929431-adf0-4e3f-be09-a1f557db5175"
      },
      "source": [
        "loss_func(acts, targ)"
      ],
      "execution_count": 30,
      "outputs": [
        {
          "output_type": "execute_result",
          "data": {
            "text/plain": [
              "tensor([0.5067, 0.6973, 2.0160, 5.6958, 0.9062, 1.0048])"
            ]
          },
          "metadata": {
            "tags": []
          },
          "execution_count": 30
        }
      ]
    }
  ]
}
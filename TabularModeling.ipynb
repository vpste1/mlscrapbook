{
  "nbformat": 4,
  "nbformat_minor": 0,
  "metadata": {
    "colab": {
      "name": "TabularModeling.ipynb",
      "provenance": [],
      "authorship_tag": "ABX9TyOtUONyPiHjiyqkabaepZfi",
      "include_colab_link": true
    },
    "kernelspec": {
      "name": "python3",
      "display_name": "Python 3"
    },
    "accelerator": "GPU"
  },
  "cells": [
    {
      "cell_type": "markdown",
      "metadata": {
        "id": "view-in-github",
        "colab_type": "text"
      },
      "source": [
        "<a href=\"https://colab.research.google.com/github/vpste1/mlscrapbook/blob/master/TabularModeling.ipynb\" target=\"_parent\"><img src=\"https://colab.research.google.com/assets/colab-badge.svg\" alt=\"Open In Colab\"/></a>"
      ]
    },
    {
      "cell_type": "markdown",
      "metadata": {
        "id": "TDynOW-EsLVx"
      },
      "source": [
        "###Setup"
      ]
    },
    {
      "cell_type": "markdown",
      "metadata": {
        "id": "o1MWSpulvf8m"
      },
      "source": [
        "**Note:** a Kaggle API key is required; to get one, click on your profile picture on the Kaggle website, and choose My Account, then click Create New API Token."
      ]
    },
    {
      "cell_type": "code",
      "metadata": {
        "colab": {
          "base_uri": "https://localhost:8080/"
        },
        "id": "B4cZ6pLlwr_v",
        "outputId": "d5ed6f67-d934-4be3-f971-714e8c8f764f"
      },
      "source": [
        "import os\r\n",
        "username = input(\"Enter your username: \")\r\n",
        "key = input(\"Enter your key: \")\r\n",
        "os.environ['KAGGLE_USERNAME'] = username\r\n",
        "os.environ['KAGGLE_KEY'] = key"
      ],
      "execution_count": 7,
      "outputs": [
        {
          "output_type": "stream",
          "text": [
            "Enter your username: vpste1\n",
            "Enter your key: fb962e1b0bb9f3a27a646afdc739bb38\n"
          ],
          "name": "stdout"
        }
      ]
    },
    {
      "cell_type": "markdown",
      "metadata": {
        "id": "h6TLUWiUwGTg"
      },
      "source": [
        "\r\n",
        "creds = input(\"Enter your credential string: \") "
      ]
    },
    {
      "cell_type": "code",
      "metadata": {
        "id": "999yladUr9Sq",
        "colab": {
          "base_uri": "https://localhost:8080/"
        },
        "outputId": "403a3194-a5ca-46e5-9cd7-66c5a3951d28"
      },
      "source": [
        "!pip install -Uqq fastbook kaggle waterfallcharts treeinterpreter dtreeviz\n",
        "import fastbook\n",
        "fastbook.setup_book()"
      ],
      "execution_count": 1,
      "outputs": [
        {
          "output_type": "stream",
          "text": [
            "\u001b[K     |████████████████████████████████| 727kB 16.1MB/s \n",
            "\u001b[K     |████████████████████████████████| 51kB 8.8MB/s \n",
            "\u001b[K     |████████████████████████████████| 51kB 8.4MB/s \n",
            "\u001b[K     |████████████████████████████████| 194kB 56.3MB/s \n",
            "\u001b[K     |████████████████████████████████| 1.1MB 55.2MB/s \n",
            "\u001b[K     |████████████████████████████████| 204.2MB 68kB/s \n",
            "\u001b[K     |████████████████████████████████| 61kB 9.7MB/s \n",
            "\u001b[K     |████████████████████████████████| 204kB 57.4MB/s \n",
            "\u001b[?25h  Building wheel for waterfallcharts (setup.py) ... \u001b[?25l\u001b[?25hdone\n",
            "  Building wheel for dtreeviz (setup.py) ... \u001b[?25l\u001b[?25hdone\n",
            "  Building wheel for pyspark (setup.py) ... \u001b[?25l\u001b[?25hdone\n",
            "Mounted at /content/gdrive\n"
          ],
          "name": "stdout"
        }
      ]
    },
    {
      "cell_type": "code",
      "metadata": {
        "hide_input": false,
        "id": "Kmb9xJaXr9Sv"
      },
      "source": [
        "from fastbook import *\n",
        "from kaggle import api\n",
        "from pandas.api.types import is_string_dtype, is_numeric_dtype, is_categorical_dtype\n",
        "from fastai.tabular.all import *\n",
        "from sklearn.ensemble import RandomForestRegressor\n",
        "from sklearn.tree import DecisionTreeRegressor\n",
        "from dtreeviz.trees import *\n",
        "from IPython.display import Image, display_svg, SVG\n",
        "\n",
        "pd.options.display.max_rows = 20\n",
        "pd.options.display.max_columns = 8"
      ],
      "execution_count": 8,
      "outputs": []
    },
    {
      "cell_type": "markdown",
      "metadata": {
        "id": "QKYmrVPor9Sw"
      },
      "source": [
        "# Tabular Modeling\r\n"
      ]
    }
  ]
}
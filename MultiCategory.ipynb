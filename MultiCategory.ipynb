{
  "nbformat": 4,
  "nbformat_minor": 0,
  "metadata": {
    "colab": {
      "name": "MultiCategory.ipynb",
      "provenance": [],
      "authorship_tag": "ABX9TyPV6iG6tlNcTN1qHpyCpITC",
      "include_colab_link": true
    },
    "kernelspec": {
      "name": "python3",
      "display_name": "Python 3"
    },
    "accelerator": "GPU",
    "widgets": {
      "application/vnd.jupyter.widget-state+json": {
        "d6beed71d833413380c8a62c8077c4ff": {
          "model_module": "@jupyter-widgets/controls",
          "model_name": "HBoxModel",
          "state": {
            "_view_name": "HBoxView",
            "_dom_classes": [],
            "_model_name": "HBoxModel",
            "_view_module": "@jupyter-widgets/controls",
            "_model_module_version": "1.5.0",
            "_view_count": null,
            "_view_module_version": "1.5.0",
            "box_style": "",
            "layout": "IPY_MODEL_105b6efa53c3464aba492c0f033d64a4",
            "_model_module": "@jupyter-widgets/controls",
            "children": [
              "IPY_MODEL_e4055557d2424dd68294aef2c610a538",
              "IPY_MODEL_b369589500544cb0b8965e0f32aeb3bf"
            ]
          }
        },
        "105b6efa53c3464aba492c0f033d64a4": {
          "model_module": "@jupyter-widgets/base",
          "model_name": "LayoutModel",
          "state": {
            "_view_name": "LayoutView",
            "grid_template_rows": null,
            "right": null,
            "justify_content": null,
            "_view_module": "@jupyter-widgets/base",
            "overflow": null,
            "_model_module_version": "1.2.0",
            "_view_count": null,
            "flex_flow": null,
            "width": null,
            "min_width": null,
            "border": null,
            "align_items": null,
            "bottom": null,
            "_model_module": "@jupyter-widgets/base",
            "top": null,
            "grid_column": null,
            "overflow_y": null,
            "overflow_x": null,
            "grid_auto_flow": null,
            "grid_area": null,
            "grid_template_columns": null,
            "flex": null,
            "_model_name": "LayoutModel",
            "justify_items": null,
            "grid_row": null,
            "max_height": null,
            "align_content": null,
            "visibility": null,
            "align_self": null,
            "height": null,
            "min_height": null,
            "padding": null,
            "grid_auto_rows": null,
            "grid_gap": null,
            "max_width": null,
            "order": null,
            "_view_module_version": "1.2.0",
            "grid_template_areas": null,
            "object_position": null,
            "object_fit": null,
            "grid_auto_columns": null,
            "margin": null,
            "display": null,
            "left": null
          }
        },
        "e4055557d2424dd68294aef2c610a538": {
          "model_module": "@jupyter-widgets/controls",
          "model_name": "FloatProgressModel",
          "state": {
            "_view_name": "ProgressView",
            "style": "IPY_MODEL_79dbba02c1a44de3a1871bfc8b1a26b3",
            "_dom_classes": [],
            "description": "100%",
            "_model_name": "FloatProgressModel",
            "bar_style": "success",
            "max": 46827520,
            "_view_module": "@jupyter-widgets/controls",
            "_model_module_version": "1.5.0",
            "value": 46827520,
            "_view_count": null,
            "_view_module_version": "1.5.0",
            "orientation": "horizontal",
            "min": 0,
            "description_tooltip": null,
            "_model_module": "@jupyter-widgets/controls",
            "layout": "IPY_MODEL_dba18c4ada784ddf97e15e72b7a21dd2"
          }
        },
        "b369589500544cb0b8965e0f32aeb3bf": {
          "model_module": "@jupyter-widgets/controls",
          "model_name": "HTMLModel",
          "state": {
            "_view_name": "HTMLView",
            "style": "IPY_MODEL_458b45b6e34049619316442119f2ccbb",
            "_dom_classes": [],
            "description": "",
            "_model_name": "HTMLModel",
            "placeholder": "​",
            "_view_module": "@jupyter-widgets/controls",
            "_model_module_version": "1.5.0",
            "value": " 44.7M/44.7M [01:35&lt;00:00, 490kB/s]",
            "_view_count": null,
            "_view_module_version": "1.5.0",
            "description_tooltip": null,
            "_model_module": "@jupyter-widgets/controls",
            "layout": "IPY_MODEL_061aad98c2054c8ab9534c1f367b1164"
          }
        },
        "79dbba02c1a44de3a1871bfc8b1a26b3": {
          "model_module": "@jupyter-widgets/controls",
          "model_name": "ProgressStyleModel",
          "state": {
            "_view_name": "StyleView",
            "_model_name": "ProgressStyleModel",
            "description_width": "initial",
            "_view_module": "@jupyter-widgets/base",
            "_model_module_version": "1.5.0",
            "_view_count": null,
            "_view_module_version": "1.2.0",
            "bar_color": null,
            "_model_module": "@jupyter-widgets/controls"
          }
        },
        "dba18c4ada784ddf97e15e72b7a21dd2": {
          "model_module": "@jupyter-widgets/base",
          "model_name": "LayoutModel",
          "state": {
            "_view_name": "LayoutView",
            "grid_template_rows": null,
            "right": null,
            "justify_content": null,
            "_view_module": "@jupyter-widgets/base",
            "overflow": null,
            "_model_module_version": "1.2.0",
            "_view_count": null,
            "flex_flow": null,
            "width": null,
            "min_width": null,
            "border": null,
            "align_items": null,
            "bottom": null,
            "_model_module": "@jupyter-widgets/base",
            "top": null,
            "grid_column": null,
            "overflow_y": null,
            "overflow_x": null,
            "grid_auto_flow": null,
            "grid_area": null,
            "grid_template_columns": null,
            "flex": null,
            "_model_name": "LayoutModel",
            "justify_items": null,
            "grid_row": null,
            "max_height": null,
            "align_content": null,
            "visibility": null,
            "align_self": null,
            "height": null,
            "min_height": null,
            "padding": null,
            "grid_auto_rows": null,
            "grid_gap": null,
            "max_width": null,
            "order": null,
            "_view_module_version": "1.2.0",
            "grid_template_areas": null,
            "object_position": null,
            "object_fit": null,
            "grid_auto_columns": null,
            "margin": null,
            "display": null,
            "left": null
          }
        },
        "458b45b6e34049619316442119f2ccbb": {
          "model_module": "@jupyter-widgets/controls",
          "model_name": "DescriptionStyleModel",
          "state": {
            "_view_name": "StyleView",
            "_model_name": "DescriptionStyleModel",
            "description_width": "",
            "_view_module": "@jupyter-widgets/base",
            "_model_module_version": "1.5.0",
            "_view_count": null,
            "_view_module_version": "1.2.0",
            "_model_module": "@jupyter-widgets/controls"
          }
        },
        "061aad98c2054c8ab9534c1f367b1164": {
          "model_module": "@jupyter-widgets/base",
          "model_name": "LayoutModel",
          "state": {
            "_view_name": "LayoutView",
            "grid_template_rows": null,
            "right": null,
            "justify_content": null,
            "_view_module": "@jupyter-widgets/base",
            "overflow": null,
            "_model_module_version": "1.2.0",
            "_view_count": null,
            "flex_flow": null,
            "width": null,
            "min_width": null,
            "border": null,
            "align_items": null,
            "bottom": null,
            "_model_module": "@jupyter-widgets/base",
            "top": null,
            "grid_column": null,
            "overflow_y": null,
            "overflow_x": null,
            "grid_auto_flow": null,
            "grid_area": null,
            "grid_template_columns": null,
            "flex": null,
            "_model_name": "LayoutModel",
            "justify_items": null,
            "grid_row": null,
            "max_height": null,
            "align_content": null,
            "visibility": null,
            "align_self": null,
            "height": null,
            "min_height": null,
            "padding": null,
            "grid_auto_rows": null,
            "grid_gap": null,
            "max_width": null,
            "order": null,
            "_view_module_version": "1.2.0",
            "grid_template_areas": null,
            "object_position": null,
            "object_fit": null,
            "grid_auto_columns": null,
            "margin": null,
            "display": null,
            "left": null
          }
        },
        "f07a27c3b42345f1ac9bfc905ee853ba": {
          "model_module": "@jupyter-widgets/controls",
          "model_name": "HBoxModel",
          "state": {
            "_view_name": "HBoxView",
            "_dom_classes": [],
            "_model_name": "HBoxModel",
            "_view_module": "@jupyter-widgets/controls",
            "_model_module_version": "1.5.0",
            "_view_count": null,
            "_view_module_version": "1.5.0",
            "box_style": "",
            "layout": "IPY_MODEL_aa8520c72eb749a8a7d50d587941853b",
            "_model_module": "@jupyter-widgets/controls",
            "children": [
              "IPY_MODEL_c2766415d210421395c89f6e5c90a55c",
              "IPY_MODEL_b6166b7fe39c4ecea65943f4adcbb487"
            ]
          }
        },
        "aa8520c72eb749a8a7d50d587941853b": {
          "model_module": "@jupyter-widgets/base",
          "model_name": "LayoutModel",
          "state": {
            "_view_name": "LayoutView",
            "grid_template_rows": null,
            "right": null,
            "justify_content": null,
            "_view_module": "@jupyter-widgets/base",
            "overflow": null,
            "_model_module_version": "1.2.0",
            "_view_count": null,
            "flex_flow": null,
            "width": null,
            "min_width": null,
            "border": null,
            "align_items": null,
            "bottom": null,
            "_model_module": "@jupyter-widgets/base",
            "top": null,
            "grid_column": null,
            "overflow_y": null,
            "overflow_x": null,
            "grid_auto_flow": null,
            "grid_area": null,
            "grid_template_columns": null,
            "flex": null,
            "_model_name": "LayoutModel",
            "justify_items": null,
            "grid_row": null,
            "max_height": null,
            "align_content": null,
            "visibility": null,
            "align_self": null,
            "height": null,
            "min_height": null,
            "padding": null,
            "grid_auto_rows": null,
            "grid_gap": null,
            "max_width": null,
            "order": null,
            "_view_module_version": "1.2.0",
            "grid_template_areas": null,
            "object_position": null,
            "object_fit": null,
            "grid_auto_columns": null,
            "margin": null,
            "display": null,
            "left": null
          }
        },
        "c2766415d210421395c89f6e5c90a55c": {
          "model_module": "@jupyter-widgets/controls",
          "model_name": "FloatProgressModel",
          "state": {
            "_view_name": "ProgressView",
            "style": "IPY_MODEL_6fb1a365c0e9491786115fc1055eb24a",
            "_dom_classes": [],
            "description": "100%",
            "_model_name": "FloatProgressModel",
            "bar_style": "success",
            "max": 102502400,
            "_view_module": "@jupyter-widgets/controls",
            "_model_module_version": "1.5.0",
            "value": 102502400,
            "_view_count": null,
            "_view_module_version": "1.5.0",
            "orientation": "horizontal",
            "min": 0,
            "description_tooltip": null,
            "_model_module": "@jupyter-widgets/controls",
            "layout": "IPY_MODEL_2701c440e57546858541478dbb54e8a3"
          }
        },
        "b6166b7fe39c4ecea65943f4adcbb487": {
          "model_module": "@jupyter-widgets/controls",
          "model_name": "HTMLModel",
          "state": {
            "_view_name": "HTMLView",
            "style": "IPY_MODEL_cffc43afb796493a9391af739e1fab5f",
            "_dom_classes": [],
            "description": "",
            "_model_name": "HTMLModel",
            "placeholder": "​",
            "_view_module": "@jupyter-widgets/controls",
            "_model_module_version": "1.5.0",
            "value": " 97.8M/97.8M [00:00&lt;00:00, 146MB/s]",
            "_view_count": null,
            "_view_module_version": "1.5.0",
            "description_tooltip": null,
            "_model_module": "@jupyter-widgets/controls",
            "layout": "IPY_MODEL_50aa6f6d14a5445fb30814d36b31f176"
          }
        },
        "6fb1a365c0e9491786115fc1055eb24a": {
          "model_module": "@jupyter-widgets/controls",
          "model_name": "ProgressStyleModel",
          "state": {
            "_view_name": "StyleView",
            "_model_name": "ProgressStyleModel",
            "description_width": "initial",
            "_view_module": "@jupyter-widgets/base",
            "_model_module_version": "1.5.0",
            "_view_count": null,
            "_view_module_version": "1.2.0",
            "bar_color": null,
            "_model_module": "@jupyter-widgets/controls"
          }
        },
        "2701c440e57546858541478dbb54e8a3": {
          "model_module": "@jupyter-widgets/base",
          "model_name": "LayoutModel",
          "state": {
            "_view_name": "LayoutView",
            "grid_template_rows": null,
            "right": null,
            "justify_content": null,
            "_view_module": "@jupyter-widgets/base",
            "overflow": null,
            "_model_module_version": "1.2.0",
            "_view_count": null,
            "flex_flow": null,
            "width": null,
            "min_width": null,
            "border": null,
            "align_items": null,
            "bottom": null,
            "_model_module": "@jupyter-widgets/base",
            "top": null,
            "grid_column": null,
            "overflow_y": null,
            "overflow_x": null,
            "grid_auto_flow": null,
            "grid_area": null,
            "grid_template_columns": null,
            "flex": null,
            "_model_name": "LayoutModel",
            "justify_items": null,
            "grid_row": null,
            "max_height": null,
            "align_content": null,
            "visibility": null,
            "align_self": null,
            "height": null,
            "min_height": null,
            "padding": null,
            "grid_auto_rows": null,
            "grid_gap": null,
            "max_width": null,
            "order": null,
            "_view_module_version": "1.2.0",
            "grid_template_areas": null,
            "object_position": null,
            "object_fit": null,
            "grid_auto_columns": null,
            "margin": null,
            "display": null,
            "left": null
          }
        },
        "cffc43afb796493a9391af739e1fab5f": {
          "model_module": "@jupyter-widgets/controls",
          "model_name": "DescriptionStyleModel",
          "state": {
            "_view_name": "StyleView",
            "_model_name": "DescriptionStyleModel",
            "description_width": "",
            "_view_module": "@jupyter-widgets/base",
            "_model_module_version": "1.5.0",
            "_view_count": null,
            "_view_module_version": "1.2.0",
            "_model_module": "@jupyter-widgets/controls"
          }
        },
        "50aa6f6d14a5445fb30814d36b31f176": {
          "model_module": "@jupyter-widgets/base",
          "model_name": "LayoutModel",
          "state": {
            "_view_name": "LayoutView",
            "grid_template_rows": null,
            "right": null,
            "justify_content": null,
            "_view_module": "@jupyter-widgets/base",
            "overflow": null,
            "_model_module_version": "1.2.0",
            "_view_count": null,
            "flex_flow": null,
            "width": null,
            "min_width": null,
            "border": null,
            "align_items": null,
            "bottom": null,
            "_model_module": "@jupyter-widgets/base",
            "top": null,
            "grid_column": null,
            "overflow_y": null,
            "overflow_x": null,
            "grid_auto_flow": null,
            "grid_area": null,
            "grid_template_columns": null,
            "flex": null,
            "_model_name": "LayoutModel",
            "justify_items": null,
            "grid_row": null,
            "max_height": null,
            "align_content": null,
            "visibility": null,
            "align_self": null,
            "height": null,
            "min_height": null,
            "padding": null,
            "grid_auto_rows": null,
            "grid_gap": null,
            "max_width": null,
            "order": null,
            "_view_module_version": "1.2.0",
            "grid_template_areas": null,
            "object_position": null,
            "object_fit": null,
            "grid_auto_columns": null,
            "margin": null,
            "display": null,
            "left": null
          }
        }
      }
    }
  },
  "cells": [
    {
      "cell_type": "markdown",
      "metadata": {
        "id": "view-in-github",
        "colab_type": "text"
      },
      "source": [
        "<a href=\"https://colab.research.google.com/github/vpste1/mlscrapbook/blob/master/MultiCategory.ipynb\" target=\"_parent\"><img src=\"https://colab.research.google.com/assets/colab-badge.svg\" alt=\"Open In Colab\"/></a>"
      ]
    },
    {
      "cell_type": "code",
      "metadata": {
        "id": "uQHLQKS8U0RF",
        "colab": {
          "base_uri": "https://localhost:8080/",
          "height": 0
        },
        "outputId": "e375c911-ffad-4713-88e3-22fd30248f20"
      },
      "source": [
        "#hide\n",
        "!pip install -Uqq fastbook\n",
        "import fastbook\n",
        "fastbook.setup_book()"
      ],
      "execution_count": 2,
      "outputs": [
        {
          "output_type": "stream",
          "text": [
            "\u001b[K     |████████████████████████████████| 727kB 12.7MB/s \n",
            "\u001b[K     |████████████████████████████████| 1.1MB 19.9MB/s \n",
            "\u001b[K     |████████████████████████████████| 194kB 54.1MB/s \n",
            "\u001b[K     |████████████████████████████████| 51kB 6.9MB/s \n",
            "\u001b[K     |████████████████████████████████| 61kB 9.6MB/s \n",
            "\u001b[?25hMounted at /content/gdrive\n"
          ],
          "name": "stdout"
        }
      ]
    },
    {
      "cell_type": "code",
      "metadata": {
        "id": "SXzGTs3DU0RK"
      },
      "source": [
        "#hide\n",
        "from fastbook import *"
      ],
      "execution_count": 3,
      "outputs": []
    },
    {
      "cell_type": "code",
      "metadata": {
        "id": "bSVGLkxkU0RN",
        "colab": {
          "base_uri": "https://localhost:8080/",
          "height": 17
        },
        "outputId": "9ac36084-327e-493c-9023-9961cc3bf376"
      },
      "source": [
        "from fastai.vision.all import *\n",
        "path = untar_data(URLs.PASCAL_2007)"
      ],
      "execution_count": 4,
      "outputs": [
        {
          "output_type": "display_data",
          "data": {
            "text/html": [
              ""
            ],
            "text/plain": [
              "<IPython.core.display.HTML object>"
            ]
          },
          "metadata": {
            "tags": []
          }
        }
      ]
    },
    {
      "cell_type": "markdown",
      "metadata": {
        "id": "ofKQjFiFNcVP"
      },
      "source": [
        "# Constructing a DataLoader from scratch:"
      ]
    },
    {
      "cell_type": "markdown",
      "metadata": {
        "id": "viTTRV9JNjIm"
      },
      "source": [
        "## The DataFrame (Pandas)"
      ]
    },
    {
      "cell_type": "markdown",
      "metadata": {
        "id": "Pv8gWXo97_mA"
      },
      "source": [
        "Use *Pandas* tp visualise the data. Pandas is a Python library that is used to manipulate and alayze tabular and time series data. It's main class is `DataFrame`, which represents a table of rows and columns loaded from a CSV, DB table, Python dict, etc. "
      ]
    },
    {
      "cell_type": "code",
      "metadata": {
        "id": "QzA7PpHoU0RO",
        "colab": {
          "base_uri": "https://localhost:8080/",
          "height": 419
        },
        "outputId": "860bc7a3-9824-4e5e-f681-59193c7d2064"
      },
      "source": [
        "df = pd.read_csv(path/'train.csv')\n",
        "df"
      ],
      "execution_count": 5,
      "outputs": [
        {
          "output_type": "execute_result",
          "data": {
            "text/html": [
              "<div>\n",
              "<style scoped>\n",
              "    .dataframe tbody tr th:only-of-type {\n",
              "        vertical-align: middle;\n",
              "    }\n",
              "\n",
              "    .dataframe tbody tr th {\n",
              "        vertical-align: top;\n",
              "    }\n",
              "\n",
              "    .dataframe thead th {\n",
              "        text-align: right;\n",
              "    }\n",
              "</style>\n",
              "<table border=\"1\" class=\"dataframe\">\n",
              "  <thead>\n",
              "    <tr style=\"text-align: right;\">\n",
              "      <th></th>\n",
              "      <th>fname</th>\n",
              "      <th>labels</th>\n",
              "      <th>is_valid</th>\n",
              "    </tr>\n",
              "  </thead>\n",
              "  <tbody>\n",
              "    <tr>\n",
              "      <th>0</th>\n",
              "      <td>000005.jpg</td>\n",
              "      <td>chair</td>\n",
              "      <td>True</td>\n",
              "    </tr>\n",
              "    <tr>\n",
              "      <th>1</th>\n",
              "      <td>000007.jpg</td>\n",
              "      <td>car</td>\n",
              "      <td>True</td>\n",
              "    </tr>\n",
              "    <tr>\n",
              "      <th>2</th>\n",
              "      <td>000009.jpg</td>\n",
              "      <td>horse person</td>\n",
              "      <td>True</td>\n",
              "    </tr>\n",
              "    <tr>\n",
              "      <th>3</th>\n",
              "      <td>000012.jpg</td>\n",
              "      <td>car</td>\n",
              "      <td>False</td>\n",
              "    </tr>\n",
              "    <tr>\n",
              "      <th>4</th>\n",
              "      <td>000016.jpg</td>\n",
              "      <td>bicycle</td>\n",
              "      <td>True</td>\n",
              "    </tr>\n",
              "    <tr>\n",
              "      <th>...</th>\n",
              "      <td>...</td>\n",
              "      <td>...</td>\n",
              "      <td>...</td>\n",
              "    </tr>\n",
              "    <tr>\n",
              "      <th>5006</th>\n",
              "      <td>009954.jpg</td>\n",
              "      <td>horse person</td>\n",
              "      <td>True</td>\n",
              "    </tr>\n",
              "    <tr>\n",
              "      <th>5007</th>\n",
              "      <td>009955.jpg</td>\n",
              "      <td>boat</td>\n",
              "      <td>True</td>\n",
              "    </tr>\n",
              "    <tr>\n",
              "      <th>5008</th>\n",
              "      <td>009958.jpg</td>\n",
              "      <td>person bicycle</td>\n",
              "      <td>True</td>\n",
              "    </tr>\n",
              "    <tr>\n",
              "      <th>5009</th>\n",
              "      <td>009959.jpg</td>\n",
              "      <td>car</td>\n",
              "      <td>False</td>\n",
              "    </tr>\n",
              "    <tr>\n",
              "      <th>5010</th>\n",
              "      <td>009961.jpg</td>\n",
              "      <td>dog</td>\n",
              "      <td>False</td>\n",
              "    </tr>\n",
              "  </tbody>\n",
              "</table>\n",
              "<p>5011 rows × 3 columns</p>\n",
              "</div>"
            ],
            "text/plain": [
              "           fname          labels  is_valid\n",
              "0     000005.jpg           chair      True\n",
              "1     000007.jpg             car      True\n",
              "2     000009.jpg    horse person      True\n",
              "3     000012.jpg             car     False\n",
              "4     000016.jpg         bicycle      True\n",
              "...          ...             ...       ...\n",
              "5006  009954.jpg    horse person      True\n",
              "5007  009955.jpg            boat      True\n",
              "5008  009958.jpg  person bicycle      True\n",
              "5009  009959.jpg             car     False\n",
              "5010  009961.jpg             dog     False\n",
              "\n",
              "[5011 rows x 3 columns]"
            ]
          },
          "metadata": {
            "tags": []
          },
          "execution_count": 5
        }
      ]
    },
    {
      "cell_type": "markdown",
      "metadata": {
        "id": "dOSVCkvZ8cax"
      },
      "source": [
        "Using the Dataframe's `iloc` property, you can access specific rows/columns:"
      ]
    },
    {
      "cell_type": "code",
      "metadata": {
        "colab": {
          "base_uri": "https://localhost:8080/",
          "height": 0
        },
        "id": "noE0ojUJ8jDm",
        "outputId": "00e938d5-347d-4fae-f1d7-a031e53a544c"
      },
      "source": [
        "df.iloc[:,1]"
      ],
      "execution_count": 6,
      "outputs": [
        {
          "output_type": "execute_result",
          "data": {
            "text/plain": [
              "0                chair\n",
              "1                  car\n",
              "2         horse person\n",
              "3                  car\n",
              "4              bicycle\n",
              "             ...      \n",
              "5006      horse person\n",
              "5007              boat\n",
              "5008    person bicycle\n",
              "5009               car\n",
              "5010               dog\n",
              "Name: labels, Length: 5011, dtype: object"
            ]
          },
          "metadata": {
            "tags": []
          },
          "execution_count": 6
        }
      ]
    },
    {
      "cell_type": "code",
      "metadata": {
        "colab": {
          "base_uri": "https://localhost:8080/",
          "height": 0
        },
        "id": "P_ljRCc48uFs",
        "outputId": "d41067eb-fdef-4817-8534-f48f3edadedc"
      },
      "source": [
        "df.iloc[1]"
      ],
      "execution_count": 7,
      "outputs": [
        {
          "output_type": "execute_result",
          "data": {
            "text/plain": [
              "fname       000007.jpg\n",
              "labels             car\n",
              "is_valid          True\n",
              "Name: 1, dtype: object"
            ]
          },
          "metadata": {
            "tags": []
          },
          "execution_count": 7
        }
      ]
    },
    {
      "cell_type": "markdown",
      "metadata": {
        "id": "24sclGDW80Bn"
      },
      "source": [
        "It's also possible to grab a specific column by name:"
      ]
    },
    {
      "cell_type": "code",
      "metadata": {
        "colab": {
          "base_uri": "https://localhost:8080/",
          "height": 0
        },
        "id": "KB_khOXU82xn",
        "outputId": "fedf42bb-cd4a-479b-d15c-6221f6d96248"
      },
      "source": [
        "df['fname']"
      ],
      "execution_count": 8,
      "outputs": [
        {
          "output_type": "execute_result",
          "data": {
            "text/plain": [
              "0       000005.jpg\n",
              "1       000007.jpg\n",
              "2       000009.jpg\n",
              "3       000012.jpg\n",
              "4       000016.jpg\n",
              "           ...    \n",
              "5006    009954.jpg\n",
              "5007    009955.jpg\n",
              "5008    009958.jpg\n",
              "5009    009959.jpg\n",
              "5010    009961.jpg\n",
              "Name: fname, Length: 5011, dtype: object"
            ]
          },
          "metadata": {
            "tags": []
          },
          "execution_count": 8
        }
      ]
    },
    {
      "cell_type": "markdown",
      "metadata": {
        "id": "ZQWbSa1h88Fy"
      },
      "source": [
        "Creating DataFrames is easy from scratch:"
      ]
    },
    {
      "cell_type": "code",
      "metadata": {
        "colab": {
          "base_uri": "https://localhost:8080/",
          "height": 111
        },
        "id": "QHP1tjOj8_4H",
        "outputId": "7de77ad2-ede0-4c53-cfe9-dad4b8e9b9e1"
      },
      "source": [
        "tmp_df = pd.DataFrame({'a': [1,2], 'b': [6,8]})\r\n",
        "tmp_df"
      ],
      "execution_count": 9,
      "outputs": [
        {
          "output_type": "execute_result",
          "data": {
            "text/html": [
              "<div>\n",
              "<style scoped>\n",
              "    .dataframe tbody tr th:only-of-type {\n",
              "        vertical-align: middle;\n",
              "    }\n",
              "\n",
              "    .dataframe tbody tr th {\n",
              "        vertical-align: top;\n",
              "    }\n",
              "\n",
              "    .dataframe thead th {\n",
              "        text-align: right;\n",
              "    }\n",
              "</style>\n",
              "<table border=\"1\" class=\"dataframe\">\n",
              "  <thead>\n",
              "    <tr style=\"text-align: right;\">\n",
              "      <th></th>\n",
              "      <th>a</th>\n",
              "      <th>b</th>\n",
              "    </tr>\n",
              "  </thead>\n",
              "  <tbody>\n",
              "    <tr>\n",
              "      <th>0</th>\n",
              "      <td>1</td>\n",
              "      <td>6</td>\n",
              "    </tr>\n",
              "    <tr>\n",
              "      <th>1</th>\n",
              "      <td>2</td>\n",
              "      <td>8</td>\n",
              "    </tr>\n",
              "  </tbody>\n",
              "</table>\n",
              "</div>"
            ],
            "text/plain": [
              "   a  b\n",
              "0  1  6\n",
              "1  2  8"
            ]
          },
          "metadata": {
            "tags": []
          },
          "execution_count": 9
        }
      ]
    },
    {
      "cell_type": "markdown",
      "metadata": {
        "id": "OY6sKwRY9O5G"
      },
      "source": [
        "Can also do calculations using columns:"
      ]
    },
    {
      "cell_type": "code",
      "metadata": {
        "colab": {
          "base_uri": "https://localhost:8080/",
          "height": 111
        },
        "id": "uH6LI3RS9RcJ",
        "outputId": "e4b908ee-865d-473b-b7d4-026d5f27e4b3"
      },
      "source": [
        "tmp_df['c'] = tmp_df['a'] + tmp_df['b']\r\n",
        "tmp_df"
      ],
      "execution_count": 10,
      "outputs": [
        {
          "output_type": "execute_result",
          "data": {
            "text/html": [
              "<div>\n",
              "<style scoped>\n",
              "    .dataframe tbody tr th:only-of-type {\n",
              "        vertical-align: middle;\n",
              "    }\n",
              "\n",
              "    .dataframe tbody tr th {\n",
              "        vertical-align: top;\n",
              "    }\n",
              "\n",
              "    .dataframe thead th {\n",
              "        text-align: right;\n",
              "    }\n",
              "</style>\n",
              "<table border=\"1\" class=\"dataframe\">\n",
              "  <thead>\n",
              "    <tr style=\"text-align: right;\">\n",
              "      <th></th>\n",
              "      <th>a</th>\n",
              "      <th>b</th>\n",
              "      <th>c</th>\n",
              "    </tr>\n",
              "  </thead>\n",
              "  <tbody>\n",
              "    <tr>\n",
              "      <th>0</th>\n",
              "      <td>1</td>\n",
              "      <td>6</td>\n",
              "      <td>7</td>\n",
              "    </tr>\n",
              "    <tr>\n",
              "      <th>1</th>\n",
              "      <td>2</td>\n",
              "      <td>8</td>\n",
              "      <td>10</td>\n",
              "    </tr>\n",
              "  </tbody>\n",
              "</table>\n",
              "</div>"
            ],
            "text/plain": [
              "   a  b   c\n",
              "0  1  6   7\n",
              "1  2  8  10"
            ]
          },
          "metadata": {
            "tags": []
          },
          "execution_count": 10
        }
      ]
    },
    {
      "cell_type": "markdown",
      "metadata": {
        "id": "EW1Kjf4LNoJ2"
      },
      "source": [
        "## Datasets, DataLoaders and DataBlocks"
      ]
    },
    {
      "cell_type": "markdown",
      "metadata": {
        "id": "GL6w0VubU0RS"
      },
      "source": [
        "Quick recap on definitions:\n",
        "\n",
        "- `Dataset`:: A collection that returns a tuple of your independent and dependent variable for a single item\n",
        "- `DataLoader`:: An iterator that provides a stream of mini-batches, where each mini-batch is a tuple of a batch of independent variables and a batch of dependent variables"
      ]
    },
    {
      "cell_type": "markdown",
      "metadata": {
        "id": "AsYblGDyU0RS"
      },
      "source": [
        "On top of these, fastai provides two classes for bringing your training and validation sets together:\n",
        "\n",
        "- `Datasets`:: An object that contains a training `Dataset` and a validation `Dataset`\n",
        "- `DataLoaders`:: An object that contains a training `DataLoader` and a validation `DataLoader`\n",
        "\n",
        "Since a `DataLoader` builds on top of a `Dataset` and adds additional functionality to it (collating multiple items into a mini-batch), it’s often easiest to start by creating and testing `Datasets`, and then look at `DataLoaders` after that’s working."
      ]
    },
    {
      "cell_type": "markdown",
      "metadata": {
        "id": "GidW-5ARCnNc"
      },
      "source": [
        "A `DataBlock` is generic container used to build both `Dataset` and `DataLoader`. They can be built gradually so that we can check any errors as we go: "
      ]
    },
    {
      "cell_type": "code",
      "metadata": {
        "id": "8_ZN-_mXC-mA"
      },
      "source": [
        "dblock = DataBlock()"
      ],
      "execution_count": 11,
      "outputs": []
    },
    {
      "cell_type": "markdown",
      "metadata": {
        "id": "PJt-qX8JDELW"
      },
      "source": [
        "A `Datasets` object can be built from this empty `DataBlock`, the only thing required is the source of data (in our case the `DataFrame`):"
      ]
    },
    {
      "cell_type": "code",
      "metadata": {
        "id": "cbyp-BI8DT4j"
      },
      "source": [
        "dsets = dblock.datasets(df)"
      ],
      "execution_count": 12,
      "outputs": []
    },
    {
      "cell_type": "markdown",
      "metadata": {
        "id": "zfLb8f_IDhO6"
      },
      "source": [
        "Since `dsets` is an object of type `Datasets`, it has both the validation and training `Dataset` accessible:"
      ]
    },
    {
      "cell_type": "code",
      "metadata": {
        "colab": {
          "base_uri": "https://localhost:8080/",
          "height": 0
        },
        "id": "Cw8gt02ODny2",
        "outputId": "d9fa4005-4e89-4e1a-a4a0-5c584d091809"
      },
      "source": [
        "len(dsets.train),len(dsets.valid)"
      ],
      "execution_count": 13,
      "outputs": [
        {
          "output_type": "execute_result",
          "data": {
            "text/plain": [
              "(4009, 1002)"
            ]
          },
          "metadata": {
            "tags": []
          },
          "execution_count": 13
        }
      ]
    },
    {
      "cell_type": "markdown",
      "metadata": {
        "id": "4_enOan_DzL9"
      },
      "source": [
        "As mentioned before, a `Dataset` is a list of tuples, each item with the independent and dependent variables:"
      ]
    },
    {
      "cell_type": "code",
      "metadata": {
        "colab": {
          "base_uri": "https://localhost:8080/",
          "height": 0
        },
        "id": "GTZotOEVEBU7",
        "outputId": "71ed2f18-fc12-4642-e69c-b77520cb36ea"
      },
      "source": [
        "x,y = dsets.train[0]\r\n",
        "x,y"
      ],
      "execution_count": 14,
      "outputs": [
        {
          "output_type": "execute_result",
          "data": {
            "text/plain": [
              "(fname       008663.jpg\n",
              " labels      car person\n",
              " is_valid         False\n",
              " Name: 4346, dtype: object, fname       008663.jpg\n",
              " labels      car person\n",
              " is_valid         False\n",
              " Name: 4346, dtype: object)"
            ]
          },
          "metadata": {
            "tags": []
          },
          "execution_count": 14
        }
      ]
    },
    {
      "cell_type": "markdown",
      "metadata": {
        "id": "8aP7GKTFEKVR"
      },
      "source": [
        "In the above snippet, you can see that x and y are identical (they are the same row of the `DataFrame`). This is because the data block assumes we have two things: input and target. We need to specify the fields we want with the `get_x` and `get_y` functions:"
      ]
    },
    {
      "cell_type": "code",
      "metadata": {
        "colab": {
          "base_uri": "https://localhost:8080/",
          "height": 35
        },
        "id": "vkjSPAJsEe3e",
        "outputId": "f70d2e16-bdc9-4c93-a52a-8a270b5bf5c4"
      },
      "source": [
        "x['fname']"
      ],
      "execution_count": 15,
      "outputs": [
        {
          "output_type": "execute_result",
          "data": {
            "application/vnd.google.colaboratory.intrinsic+json": {
              "type": "string"
            },
            "text/plain": [
              "'008663.jpg'"
            ]
          },
          "metadata": {
            "tags": []
          },
          "execution_count": 15
        }
      ]
    },
    {
      "cell_type": "markdown",
      "metadata": {
        "id": "9I96fUe5EnEX"
      },
      "source": [
        "Let's redefine the `dblock` with the correct `get_x` and `get_y` functions:"
      ]
    },
    {
      "cell_type": "code",
      "metadata": {
        "colab": {
          "base_uri": "https://localhost:8080/",
          "height": 0
        },
        "id": "by0LMaUfEj56",
        "outputId": "b7aa1489-b9b1-423e-ff17-532043ad8df3"
      },
      "source": [
        "dblock = DataBlock(get_x= lambda r: r['fname'], get_y = lambda r: r['labels'])\r\n",
        "dsets = dblock.datasets(df)\r\n",
        "dsets.train[0]"
      ],
      "execution_count": 16,
      "outputs": [
        {
          "output_type": "execute_result",
          "data": {
            "text/plain": [
              "('005620.jpg', 'aeroplane')"
            ]
          },
          "metadata": {
            "tags": []
          },
          "execution_count": 16
        }
      ]
    },
    {
      "cell_type": "markdown",
      "metadata": {
        "id": "dSWj95ewH0WR"
      },
      "source": [
        "Whilst `lambda` functions are great for quick iterations; they are not serialised (saved). They are good for prototyping/experimenting, but it's better to be more verbose if intending to export your work.\r\n",
        "\r\n",
        "So far we are getting the filename, but not the location; and the labels should be represented as a list (not a space-delimited string):"
      ]
    },
    {
      "cell_type": "code",
      "metadata": {
        "id": "LMX7rOzdU0RW",
        "colab": {
          "base_uri": "https://localhost:8080/",
          "height": 0
        },
        "outputId": "2c5d1606-8793-4ce8-fb29-cd02a4de6edc"
      },
      "source": [
        "def get_x(r): return path/'train'/r['fname']\n",
        "def get_y(r): return r['labels'].split(' ')\n",
        "dblock = DataBlock(get_x = get_x, get_y = get_y)\n",
        "dsets = dblock.datasets(df)\n",
        "dsets.train[0]"
      ],
      "execution_count": 17,
      "outputs": [
        {
          "output_type": "execute_result",
          "data": {
            "text/plain": [
              "(Path('/root/.fastai/data/pascal_2007/train/002549.jpg'), ['tvmonitor'])"
            ]
          },
          "metadata": {
            "tags": []
          },
          "execution_count": 17
        }
      ]
    },
    {
      "cell_type": "markdown",
      "metadata": {
        "id": "E3T6JZrbIkQU"
      },
      "source": [
        "The path to the image is not the actual image itself, it needs to be opened. Defining `ImageBlock` as the independent variable will do this for us.\r\n",
        "\r\n",
        "For the dependent variables (labels) we have used `CategoryBlock` in the past, which returned a single integer pointing to what category it belonged to. Now that we are dealing with potentially multiple categories per image, we need to use `MultiCategoryBlock` which uses one-hot encoding (a vector of zeros, with ones in the location of each category that the image belongs to).  "
      ]
    },
    {
      "cell_type": "code",
      "metadata": {
        "colab": {
          "base_uri": "https://localhost:8080/",
          "height": 0
        },
        "id": "r8Glx5j4IB15",
        "outputId": "0ab7bff5-d9ea-43c6-ddab-b72648d633b5"
      },
      "source": [
        "dblock = DataBlock(blocks=(ImageBlock, MultiCategoryBlock), \r\n",
        "                   get_x = get_x,\r\n",
        "                   get_y = get_y)\r\n",
        "dsets = dblock.datasets(df)\r\n",
        "x,y = dsets.train[0]\r\n",
        "x,y"
      ],
      "execution_count": 18,
      "outputs": [
        {
          "output_type": "execute_result",
          "data": {
            "text/plain": [
              "(PILImage mode=RGB size=500x325,\n",
              " TensorMultiCategory([0., 0., 0., 0., 0., 0., 0., 0., 0., 0., 0., 0., 0., 0., 0., 0., 0., 0., 1., 0.]))"
            ]
          },
          "metadata": {
            "tags": []
          },
          "execution_count": 18
        }
      ]
    },
    {
      "cell_type": "markdown",
      "metadata": {
        "id": "ifXPRE7iKg-Z"
      },
      "source": [
        "We can also define how to split the dataset (using a `splitter`) into both valid and training data. Our dataframe specifies an `is_valid` key: "
      ]
    },
    {
      "cell_type": "code",
      "metadata": {
        "colab": {
          "base_uri": "https://localhost:8080/",
          "height": 0
        },
        "id": "80tShrytK6h3",
        "outputId": "d6ad3dba-a0ff-4373-fce3-255647df0124"
      },
      "source": [
        "# Both `train` and `valid` are lists of indices\r\n",
        "\r\n",
        "def splitter(df):\r\n",
        "  train = df.index[~df['is_valid']].tolist()\r\n",
        "  valid = df.index[df['is_valid']].tolist()\r\n",
        "  return train,valid\r\n",
        "\r\n",
        "dblock = DataBlock(blocks=(ImageBlock, MultiCategoryBlock),\r\n",
        "                    splitter = splitter,\r\n",
        "                   get_x = get_x,\r\n",
        "                   get_y = get_y)\r\n",
        "\r\n",
        "dsets = dblock.datasets(df)\r\n",
        "dsets.train[0]"
      ],
      "execution_count": 19,
      "outputs": [
        {
          "output_type": "execute_result",
          "data": {
            "text/plain": [
              "(PILImage mode=RGB size=500x333,\n",
              " TensorMultiCategory([0., 0., 0., 0., 0., 0., 1., 0., 0., 0., 0., 0., 0., 0., 0., 0., 0., 0., 0., 0.]))"
            ]
          },
          "metadata": {
            "tags": []
          },
          "execution_count": 19
        }
      ]
    },
    {
      "cell_type": "markdown",
      "metadata": {
        "id": "lkcmYVeAMe7q"
      },
      "source": [
        "The last step before creating out `DataLoaders` is to ensure that every item is of the same size. This canbe done with a `RandomResizedCrop`: "
      ]
    },
    {
      "cell_type": "code",
      "metadata": {
        "colab": {
          "base_uri": "https://localhost:8080/",
          "height": 196
        },
        "id": "hFe4UxnXMrPT",
        "outputId": "074c24d5-36e1-4fa8-b90c-92cad266daff"
      },
      "source": [
        "dblock = DataBlock(blocks=(ImageBlock, MultiCategoryBlock),\r\n",
        "                  splitter=splitter,\r\n",
        "                   get_x=get_x,\r\n",
        "                   get_y=get_y,\r\n",
        "                   item_tfms=RandomResizedCrop(128, min_scale=0.35))\r\n",
        "dls = dblock.dataloaders(df)\r\n",
        "\r\n",
        "dls.show_batch(nrows=1, ncols =3)"
      ],
      "execution_count": 20,
      "outputs": [
        {
          "output_type": "display_data",
          "data": {
            "image/png": "[encoded data removed]",
            "text/plain": [
              "<Figure size 648x216 with 3 Axes>"
            ]
          },
          "metadata": {
            "tags": [],
            "needs_background": "light"
          }
        }
      ]
    },
    {
      "cell_type": "markdown",
      "metadata": {
        "id": "pwwTQ-emNPvx"
      },
      "source": [
        "Important to remember that if anything goes wrong with making your `DataLoaders` from your `DataBlock` you can use the `summary` method to help diagnose and troubleshoot."
      ]
    },
    {
      "cell_type": "markdown",
      "metadata": {
        "id": "j-M1AALaN3Cu"
      },
      "source": [
        "# Binary Cross-Entropy\r\n",
        "\r\n",
        "To begin to create our `Learner` we need to build a suitable loss function. We can quickly create a `Learner` from `cnn_learner` to view its activations:"
      ]
    },
    {
      "cell_type": "code",
      "metadata": {
        "colab": {
          "base_uri": "https://localhost:8080/",
          "height": 103,
          "referenced_widgets": [
            "d6beed71d833413380c8a62c8077c4ff",
            "105b6efa53c3464aba492c0f033d64a4",
            "e4055557d2424dd68294aef2c610a538",
            "b369589500544cb0b8965e0f32aeb3bf",
            "79dbba02c1a44de3a1871bfc8b1a26b3",
            "dba18c4ada784ddf97e15e72b7a21dd2",
            "458b45b6e34049619316442119f2ccbb",
            "061aad98c2054c8ab9534c1f367b1164"
          ]
        },
        "id": "gu5By-qHOPVP",
        "outputId": "73d8bd7f-19a3-4784-81da-bb0b8f38d9cb"
      },
      "source": [
        "learn = cnn_learner(dls, resnet18)"
      ],
      "execution_count": 21,
      "outputs": [
        {
          "output_type": "stream",
          "text": [
            "Downloading: \"https://download.pytorch.org/models/resnet18-5c106cde.pth\" to /root/.cache/torch/hub/checkpoints/resnet18-5c106cde.pth\n"
          ],
          "name": "stderr"
        },
        {
          "output_type": "display_data",
          "data": {
            "application/vnd.jupyter.widget-view+json": {
              "model_id": "d6beed71d833413380c8a62c8077c4ff",
              "version_minor": 0,
              "version_major": 2
            },
            "text/plain": [
              "HBox(children=(FloatProgress(value=0.0, max=46827520.0), HTML(value='')))"
            ]
          },
          "metadata": {
            "tags": []
          }
        },
        {
          "output_type": "stream",
          "text": [
            "\n"
          ],
          "name": "stdout"
        }
      ]
    },
    {
      "cell_type": "markdown",
      "metadata": {
        "id": "ZCY2K0-VPKFv"
      },
      "source": [
        "We can grab a single batch from the `DataLoader` we built earlier (64 images), and input them into the pretrained model to receive the activations for those images (in each of the 20 potential cateogries): "
      ]
    },
    {
      "cell_type": "code",
      "metadata": {
        "id": "sgc9DT8FU0Ra",
        "colab": {
          "base_uri": "https://localhost:8080/",
          "height": 0
        },
        "outputId": "5f4680eb-91bb-4f4b-a93d-d53ab870f692"
      },
      "source": [
        "x,y = to_cpu(dls.train.one_batch())\n",
        "activs = learn.model(x)\n",
        "activs.shape"
      ],
      "execution_count": 22,
      "outputs": [
        {
          "output_type": "execute_result",
          "data": {
            "text/plain": [
              "torch.Size([64, 20])"
            ]
          },
          "metadata": {
            "tags": []
          },
          "execution_count": 22
        }
      ]
    },
    {
      "cell_type": "markdown",
      "metadata": {
        "id": "Uvts1y_dPcYT"
      },
      "source": [
        "Here are what the predictions look like for one of the images: "
      ]
    },
    {
      "cell_type": "code",
      "metadata": {
        "colab": {
          "base_uri": "https://localhost:8080/",
          "height": 0
        },
        "id": "MWTRVyGEPfla",
        "outputId": "e607668c-4f0e-4358-9581-38ed24df790f"
      },
      "source": [
        "activs[0]"
      ],
      "execution_count": 23,
      "outputs": [
        {
          "output_type": "execute_result",
          "data": {
            "text/plain": [
              "tensor([ 0.4153,  1.2974, -2.9310,  1.3063, -0.6814, -1.7772,  0.8123, -0.4988, -1.6027,  1.3562,  1.2609,  0.0103,  2.3019, -0.4606, -0.4662,  0.6359, -3.2023, -0.8144, -3.8843, -0.8441],\n",
              "       grad_fn=<SelectBackward>)"
            ]
          },
          "metadata": {
            "tags": []
          },
          "execution_count": 23
        }
      ]
    },
    {
      "cell_type": "markdown",
      "metadata": {
        "id": "_VDXOlri5Fih"
      },
      "source": [
        "Making use of the `sigmoid` function, we can spread these between 0 and 1. Additionally making use of the log function, we can calculate the loss:"
      ]
    },
    {
      "cell_type": "code",
      "metadata": {
        "colab": {
          "base_uri": "https://localhost:8080/",
          "height": 0
        },
        "id": "lbRd5osM5ZOu",
        "outputId": "d5719d5a-f8bb-421d-b50a-f89970148a72"
      },
      "source": [
        "activs.sigmoid().shape"
      ],
      "execution_count": 26,
      "outputs": [
        {
          "output_type": "execute_result",
          "data": {
            "text/plain": [
              "torch.Size([64, 20])"
            ]
          },
          "metadata": {
            "tags": []
          },
          "execution_count": 26
        }
      ]
    },
    {
      "cell_type": "code",
      "metadata": {
        "id": "pSH4BAw_5So9"
      },
      "source": [
        "def binary_cross_entropy(inputs, targets):\r\n",
        "  inputs = inputs.sigmoid()\r\n",
        "  return -torch.where(target == 1, 1 - inputs, inputs).log().mean()\r\n"
      ],
      "execution_count": 29,
      "outputs": []
    },
    {
      "cell_type": "markdown",
      "metadata": {
        "id": "H9KP1FcS6Dq-"
      },
      "source": [
        "Previously we have made use of `nll_loss` and `softmax` which aren't applicable here.\r\n",
        "\r\n",
        "`softmax` requires the predictions to sum to 1, and pushes one activation to be much higher than the others using the exponent. In this usecase, there may be scenarios where none of the categories are present, so we wouldn't want the probabilities of the categories to add to 1 (summing to 1 implies we want one of the categories to exist). \r\n",
        "\r\n",
        "`nll_loss` returns the value of just one activation; since we are dealing with potentially multiple labels it doesn't make sense to use it.\r\n",
        "\r\n",
        "Making use of our `binary_cross_entropy` (which is just our `mnist_loss` combined with `log`) provides use with what we need due to to the ability to do elementwise operations with broadcasting.\r\n",
        "\r\n",
        "As with all our previous creations from scratch, PyTorch already provides this functionality:\r\n",
        "\r\n",
        ">`F.binary_cross_entropy` / `nn.BCELoss` calculate cross-entropy on a one-hot-encoded target, but do not include the initial `sigmoid`. This means that normally you will what `F.binary_cross_entropy_with_logits` (or `nn.BCEWithLogitsLoss`) which include `sigmoid` into the single function."
      ]
    },
    {
      "cell_type": "code",
      "metadata": {
        "id": "qvzLuIvrU0Rc",
        "colab": {
          "base_uri": "https://localhost:8080/"
        },
        "outputId": "47a745bd-f7c1-4e6c-9ac5-1a41001c55da"
      },
      "source": [
        "loss_func = nn.BCEWithLogitsLoss()\n",
        "loss = loss_func(activs, y)\n",
        "loss"
      ],
      "execution_count": 30,
      "outputs": [
        {
          "output_type": "execute_result",
          "data": {
            "text/plain": [
              "TensorMultiCategory(1.0954, grad_fn=<AliasBackward>)"
            ]
          },
          "metadata": {
            "tags": []
          },
          "execution_count": 30
        }
      ]
    },
    {
      "cell_type": "markdown",
      "metadata": {
        "id": "ny2tuNBU9aFG"
      },
      "source": [
        "We don't actually need to tell fastai to use this loss function (although we can if we want) since it will be automatically chosen for us. fastai knows that the `DataLoaders` has multiple category labels, so it will use `nn.BCEWithLogitsLoss` by default.\r\n",
        "\r\n",
        "In terms of metrics, we previously used a function that would determine accuracy based on which activation was the highest, and checking its index against the target's index. With multiple categories, this won't work.\r\n",
        "\r\n",
        "For multiple categories, we want to look at the activations and pick a threshold for what we determine the activation to be predicting that category; compare the old with the new:\r\n",
        "\r\n",
        "```python\r\n",
        "#Old accuracy\r\n",
        "def accuracy(inp, targ, axis=-1):\r\n",
        "    \"Compute accuracy with `targ` when `pred` is bs * n_classes\"\r\n",
        "    pred = inp.argmax(dim=axis)\r\n",
        "    return (pred == targ).float().mean()\r\n",
        "```\r\n",
        "\r\n",
        "```python\r\n",
        "#New accuracy\r\n",
        "def accuracy_multi(inp, targ, thresh=0.5, sigmoid=True):\r\n",
        "    \"Compute accuracy when `inp` and `targ` are the same size.\"\r\n",
        "    if sigmoid: inp = inp.sigmoid()\r\n",
        "    return ((inp>thresh)==targ.bool()).float().mean()\r\n",
        "```\r\n",
        "\r\n",
        "When we pass `accuracy_multi` directly to the learner as the metric function, it will make use of the default threshold when determining accuracy. If we want to be able to tweak that threshold, we would make a different version of `accuracy_multi` that has a different threshold. \r\n",
        "\r\n",
        "Python can facilitate this making use of `partial` functions. It allows us to bind a function with some arguments set, making a new version of that function, e.g:"
      ]
    },
    {
      "cell_type": "code",
      "metadata": {
        "id": "i4OlRqiEU0Rd",
        "colab": {
          "base_uri": "https://localhost:8080/",
          "height": 384,
          "referenced_widgets": [
            "f07a27c3b42345f1ac9bfc905ee853ba",
            "aa8520c72eb749a8a7d50d587941853b",
            "c2766415d210421395c89f6e5c90a55c",
            "b6166b7fe39c4ecea65943f4adcbb487",
            "6fb1a365c0e9491786115fc1055eb24a",
            "2701c440e57546858541478dbb54e8a3",
            "cffc43afb796493a9391af739e1fab5f",
            "50aa6f6d14a5445fb30814d36b31f176"
          ]
        },
        "outputId": "b51dd8d3-9b36-4b3b-a69c-1f4be75f60ab"
      },
      "source": [
        "learn = cnn_learner(dls, resnet50, metrics=partial(accuracy_multi, thresh=0.2))\n",
        "learn.fine_tune(3, base_lr=3e-3, freeze_epochs=4)"
      ],
      "execution_count": 31,
      "outputs": [
        {
          "output_type": "stream",
          "text": [
            "Downloading: \"https://download.pytorch.org/models/resnet50-19c8e357.pth\" to /root/.cache/torch/hub/checkpoints/resnet50-19c8e357.pth\n"
          ],
          "name": "stderr"
        },
        {
          "output_type": "display_data",
          "data": {
            "application/vnd.jupyter.widget-view+json": {
              "model_id": "f07a27c3b42345f1ac9bfc905ee853ba",
              "version_minor": 0,
              "version_major": 2
            },
            "text/plain": [
              "HBox(children=(FloatProgress(value=0.0, max=102502400.0), HTML(value='')))"
            ]
          },
          "metadata": {
            "tags": []
          }
        },
        {
          "output_type": "stream",
          "text": [
            "\n"
          ],
          "name": "stdout"
        },
        {
          "output_type": "display_data",
          "data": {
            "text/html": [
              "<table border=\"1\" class=\"dataframe\">\n",
              "  <thead>\n",
              "    <tr style=\"text-align: left;\">\n",
              "      <th>epoch</th>\n",
              "      <th>train_loss</th>\n",
              "      <th>valid_loss</th>\n",
              "      <th>accuracy_multi</th>\n",
              "      <th>time</th>\n",
              "    </tr>\n",
              "  </thead>\n",
              "  <tbody>\n",
              "    <tr>\n",
              "      <td>0</td>\n",
              "      <td>0.933915</td>\n",
              "      <td>0.709149</td>\n",
              "      <td>0.233147</td>\n",
              "      <td>00:32</td>\n",
              "    </tr>\n",
              "    <tr>\n",
              "      <td>1</td>\n",
              "      <td>0.814584</td>\n",
              "      <td>0.558509</td>\n",
              "      <td>0.282948</td>\n",
              "      <td>00:32</td>\n",
              "    </tr>\n",
              "    <tr>\n",
              "      <td>2</td>\n",
              "      <td>0.595266</td>\n",
              "      <td>0.207797</td>\n",
              "      <td>0.797530</td>\n",
              "      <td>00:31</td>\n",
              "    </tr>\n",
              "    <tr>\n",
              "      <td>3</td>\n",
              "      <td>0.357321</td>\n",
              "      <td>0.122629</td>\n",
              "      <td>0.942231</td>\n",
              "      <td>00:31</td>\n",
              "    </tr>\n",
              "  </tbody>\n",
              "</table>"
            ],
            "text/plain": [
              "<IPython.core.display.HTML object>"
            ]
          },
          "metadata": {
            "tags": []
          }
        },
        {
          "output_type": "display_data",
          "data": {
            "text/html": [
              "<table border=\"1\" class=\"dataframe\">\n",
              "  <thead>\n",
              "    <tr style=\"text-align: left;\">\n",
              "      <th>epoch</th>\n",
              "      <th>train_loss</th>\n",
              "      <th>valid_loss</th>\n",
              "      <th>accuracy_multi</th>\n",
              "      <th>time</th>\n",
              "    </tr>\n",
              "  </thead>\n",
              "  <tbody>\n",
              "    <tr>\n",
              "      <td>0</td>\n",
              "      <td>0.131946</td>\n",
              "      <td>0.118102</td>\n",
              "      <td>0.938845</td>\n",
              "      <td>00:32</td>\n",
              "    </tr>\n",
              "    <tr>\n",
              "      <td>1</td>\n",
              "      <td>0.116592</td>\n",
              "      <td>0.108786</td>\n",
              "      <td>0.953566</td>\n",
              "      <td>00:32</td>\n",
              "    </tr>\n",
              "    <tr>\n",
              "      <td>2</td>\n",
              "      <td>0.096613</td>\n",
              "      <td>0.104919</td>\n",
              "      <td>0.949920</td>\n",
              "      <td>00:32</td>\n",
              "    </tr>\n",
              "  </tbody>\n",
              "</table>"
            ],
            "text/plain": [
              "<IPython.core.display.HTML object>"
            ]
          },
          "metadata": {
            "tags": []
          }
        }
      ]
    },
    {
      "cell_type": "markdown",
      "metadata": {
        "id": "2JJKa70m-9RK"
      },
      "source": [
        "Determining a threshold will have a great bearing on accuracy, so it's not a decision to overlook. We can get the predictions from the tuned mode like so: "
      ]
    },
    {
      "cell_type": "code",
      "metadata": {
        "colab": {
          "base_uri": "https://localhost:8080/",
          "height": 136
        },
        "id": "ooQYN1e3AjSH",
        "outputId": "af7a4c8c-9977-46f4-8a05-5bc5d573bd73"
      },
      "source": [
        "preds,targs = learn.get_preds()\r\n",
        "preds"
      ],
      "execution_count": 34,
      "outputs": [
        {
          "output_type": "display_data",
          "data": {
            "text/html": [
              ""
            ],
            "text/plain": [
              "<IPython.core.display.HTML object>"
            ]
          },
          "metadata": {
            "tags": []
          }
        },
        {
          "output_type": "execute_result",
          "data": {
            "text/plain": [
              "tensor([[3.6148e-03, 8.6071e-03, 2.4516e-03,  ..., 5.0311e-01, 2.4414e-03, 1.4455e-01],\n",
              "        [5.0900e-05, 1.4474e-03, 5.2500e-04,  ..., 2.3942e-03, 1.8724e-04, 3.9535e-05],\n",
              "        [4.6572e-04, 2.0935e-02, 3.4996e-03,  ..., 2.1355e-03, 2.0243e-04, 1.0819e-03],\n",
              "        ...,\n",
              "        [2.1466e-03, 3.6746e-03, 3.5647e-04,  ..., 9.6336e-03, 2.9814e-03, 3.7324e-03],\n",
              "        [1.1829e-02, 1.3949e-02, 2.0893e-02,  ..., 3.9153e-03, 8.9634e-03, 3.9586e-03],\n",
              "        [8.4489e-04, 8.8587e-01, 2.8629e-03,  ..., 2.9575e-03, 7.5817e-04, 5.1528e-03]])"
            ]
          },
          "metadata": {
            "tags": []
          },
          "execution_count": 34
        }
      ]
    },
    {
      "cell_type": "markdown",
      "metadata": {
        "id": "Klofx-QKBEuo"
      },
      "source": [
        "The following technique can be used to identify a good threshold to pick when operating the learner: (note: `get_preds` applies the output activation function by default for us, so we won't need to apply it later when finding our optimal"
      ]
    },
    {
      "cell_type": "code",
      "metadata": {
        "id": "-Hb6YlPQU0Rf",
        "colab": {
          "base_uri": "https://localhost:8080/",
          "height": 268
        },
        "outputId": "53b0a277-d4a9-461d-9d7d-19f05c26828c"
      },
      "source": [
        "xs = torch.linspace(0.05,0.95,29)\n",
        "accs = [accuracy_multi(preds, targs, thresh=i, sigmoid=False) for i in xs]\n",
        "plt.plot(xs,accs);"
      ],
      "execution_count": 35,
      "outputs": [
        {
          "output_type": "display_data",
          "data": {
            "image/png": "[encoded data removed]",
            "text/plain": [
              "<Figure size 432x288 with 1 Axes>"
            ]
          },
          "metadata": {
            "tags": [],
            "needs_background": "light"
          }
        }
      ]
    },
    {
      "cell_type": "markdown",
      "metadata": {
        "id": "YLoVJ9A8BN4J"
      },
      "source": [
        "This is a good example of using the validation set to pick a **hyperparameter** (the threshold). "
      ]
    }
  ]
}
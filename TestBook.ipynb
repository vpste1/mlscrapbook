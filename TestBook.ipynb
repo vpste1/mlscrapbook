{
  "nbformat": 4,
  "nbformat_minor": 0,
  "metadata": {
    "colab": {
      "name": "Untitled0.ipynb",
      "provenance": [],
      "authorship_tag": "ABX9TyPWw0t8ChdHRdwKfwtgomll"
    },
    "kernelspec": {
      "name": "python3",
      "display_name": "Python 3"
    }
  },
  "cells": [
    {
      "cell_type": "markdown",
      "metadata": {
        "id": "46k7hIFBuD43"
      },
      "source": [
        "Test notebook\n"
      ]
    },
    {
      "cell_type": "code",
      "metadata": {
        "id": "iP1imO5KuAKM"
      },
      "source": [
        ""
      ],
      "execution_count": null,
      "outputs": []
    }
  ]
}
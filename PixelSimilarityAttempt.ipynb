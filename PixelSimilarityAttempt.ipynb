{
  "nbformat": 4,
  "nbformat_minor": 0,
  "metadata": {
    "colab": {
      "name": "PixelSimilarityAttempt.ipynb",
      "provenance": [],
      "authorship_tag": "ABX9TyME7YCV1koE82pHQXIJh/Nb",
      "include_colab_link": true
    },
    "kernelspec": {
      "name": "python3",
      "display_name": "Python 3"
    },
    "accelerator": "GPU"
  },
  "cells": [
    {
      "cell_type": "markdown",
      "metadata": {
        "id": "view-in-github",
        "colab_type": "text"
      },
      "source": [
        "<a href=\"https://colab.research.google.com/github/vpste1/mlscrapbook/blob/master/PixelSimilarityAttempt.ipynb\" target=\"_parent\"><img src=\"https://colab.research.google.com/assets/colab-badge.svg\" alt=\"Open In Colab\"/></a>"
      ]
    },
    {
      "cell_type": "code",
      "metadata": {
        "colab": {
          "base_uri": "https://localhost:8080/"
        },
        "id": "JoYh0mfDBMuc",
        "outputId": "aa9a4f07-f2b4-471e-8143-cc3ff6581213"
      },
      "source": [
        "!pip install -Uqq fastbook\n",
        "import fastbook\n",
        "fastbook.setup_book()\n",
        "from fastai.vision.all import *\n",
        "from fastbook import *\n",
        "\n",
        "matplotlib.rc('image', cmap='Greys')"
      ],
      "execution_count": 1,
      "outputs": [
        {
          "output_type": "stream",
          "text": [
            "\u001b[K     |████████████████████████████████| 727kB 8.1MB/s \n",
            "\u001b[K     |████████████████████████████████| 51kB 6.8MB/s \n",
            "\u001b[K     |████████████████████████████████| 1.1MB 20.1MB/s \n",
            "\u001b[K     |████████████████████████████████| 194kB 44.9MB/s \n",
            "\u001b[K     |████████████████████████████████| 61kB 9.7MB/s \n",
            "\u001b[?25hMounted at /content/gdrive\n"
          ],
          "name": "stdout"
        }
      ]
    },
    {
      "cell_type": "code",
      "metadata": {
        "colab": {
          "base_uri": "https://localhost:8080/",
          "height": 17
        },
        "id": "8BwkCFqbB7uL",
        "outputId": "32f6a077-60dc-4d05-fb1f-098d0411bc7d"
      },
      "source": [
        "path = untar_data(URLs.MNIST_SAMPLE)\n",
        "Path.BASE_PATH = path"
      ],
      "execution_count": 2,
      "outputs": [
        {
          "output_type": "display_data",
          "data": {
            "text/html": [
              ""
            ],
            "text/plain": [
              "<IPython.core.display.HTML object>"
            ]
          },
          "metadata": {
            "tags": []
          }
        }
      ]
    },
    {
      "cell_type": "code",
      "metadata": {
        "id": "Kg0lnya3CDWI"
      },
      "source": [
        "threes = (path/'train'/'3').ls().sorted()\n",
        "sevens = (path/'train'/'7').ls().sorted()"
      ],
      "execution_count": 3,
      "outputs": []
    },
    {
      "cell_type": "markdown",
      "metadata": {
        "id": "vdCYXuI0a1y_"
      },
      "source": [
        "Generate a list of images"
      ]
    },
    {
      "cell_type": "code",
      "metadata": {
        "id": "1dtYaN6kCSjD"
      },
      "source": [
        "seven_tensors = [tensor(Image.open(o)) for o in sevens]\n",
        "three_tensors = [tensor(Image.open(o)) for o in threes]"
      ],
      "execution_count": 4,
      "outputs": []
    },
    {
      "cell_type": "markdown",
      "metadata": {
        "id": "Tl8SE18_bGhS"
      },
      "source": [
        "Stack them into a single rank 3 tensor (3D matrix)"
      ]
    },
    {
      "cell_type": "code",
      "metadata": {
        "id": "pdf-WJm8Drsa",
        "outputId": "2dd2782a-21da-4ff3-8f21-c865a210b294",
        "colab": {
          "base_uri": "https://localhost:8080/"
        }
      },
      "source": [
        "stacked_sevens = torch.stack(seven_tensors).float()/255\n",
        "stacked_threes = torch.stack(three_tensors).float()/255\n",
        "stacked_threes.shape"
      ],
      "execution_count": 13,
      "outputs": [
        {
          "output_type": "execute_result",
          "data": {
            "text/plain": [
              "torch.Size([6131, 28, 28])"
            ]
          },
          "metadata": {
            "tags": []
          },
          "execution_count": 13
        }
      ]
    },
    {
      "cell_type": "markdown",
      "metadata": {
        "id": "-aBlkjt1bMyY"
      },
      "source": [
        "Generate a rank 2 tensor (2D matrix) of the mean across the 0th dimension. i.e. there are 6131 28x28 matrices; generate a single 28x28 matrix representing the averge across the 6131"
      ]
    },
    {
      "cell_type": "code",
      "metadata": {
        "id": "CR0mB306Eweu"
      },
      "source": [
        "mean3 = stacked_threes.mean(0)\n",
        "mean7 = stacked_sevens.mean(0)"
      ],
      "execution_count": 14,
      "outputs": []
    },
    {
      "cell_type": "code",
      "metadata": {
        "id": "5kJVcdVeaunN",
        "outputId": "277a31c3-b2d6-43f6-b2f2-73f9df35a3e3",
        "colab": {
          "base_uri": "https://localhost:8080/"
        }
      },
      "source": [
        "mean3.shape"
      ],
      "execution_count": 16,
      "outputs": [
        {
          "output_type": "execute_result",
          "data": {
            "text/plain": [
              "torch.Size([28, 28])"
            ]
          },
          "metadata": {
            "tags": []
          },
          "execution_count": 16
        }
      ]
    },
    {
      "cell_type": "markdown",
      "metadata": {
        "id": "kd1LG0Lybk0H"
      },
      "source": [
        "Pick one of the \"Threes\" from the stack"
      ]
    },
    {
      "cell_type": "code",
      "metadata": {
        "id": "eTIm8UAJIMjf"
      },
      "source": [
        "three =  stacked_threes[654]"
      ],
      "execution_count": null,
      "outputs": []
    },
    {
      "cell_type": "markdown",
      "metadata": {
        "id": "OfNeHcrgbtnD"
      },
      "source": [
        "Identify its \"distance\" from the mean in 2 different ways:\n",
        "- Mean absolute (L1 norm) \n",
        "- RMS (L2 norm)."
      ]
    },
    {
      "cell_type": "code",
      "metadata": {
        "colab": {
          "base_uri": "https://localhost:8080/"
        },
        "id": "hY9wzCl7Fplx",
        "outputId": "5e5380ae-2ff5-49c6-855c-6efb779c4787"
      },
      "source": [
        "dist_3_abs = (three - mean3).abs().mean()\n",
        "dist_3_sqr = ((three - mean3)**2).abs().mean().sqrt()\n",
        "dist_3_abs,dist_3_sqr\n"
      ],
      "execution_count": null,
      "outputs": [
        {
          "output_type": "execute_result",
          "data": {
            "text/plain": [
              "(tensor(0.1063), tensor(0.1868))"
            ]
          },
          "metadata": {
            "tags": []
          },
          "execution_count": 9
        }
      ]
    },
    {
      "cell_type": "markdown",
      "metadata": {
        "id": "sarsvWf_cFPz"
      },
      "source": [
        "Do the same for the \"Three\" when comparing it to the mean across the 7s."
      ]
    },
    {
      "cell_type": "code",
      "metadata": {
        "colab": {
          "base_uri": "https://localhost:8080/"
        },
        "id": "s5Wato98H9O-",
        "outputId": "47e31851-a829-44d2-9657-a6295183fac5"
      },
      "source": [
        "dist_7_abs = (three - mean7).abs().mean()\n",
        "dist_7_sqr = ((three - mean7)**2).abs().mean().sqrt()\n",
        "dist_7_abs,dist_7_sqr"
      ],
      "execution_count": null,
      "outputs": [
        {
          "output_type": "execute_result",
          "data": {
            "text/plain": [
              "(tensor(0.1364), tensor(0.2694))"
            ]
          },
          "metadata": {
            "tags": []
          },
          "execution_count": 10
        }
      ]
    },
    {
      "cell_type": "markdown",
      "metadata": {
        "id": "VjfUDFsRcPvX"
      },
      "source": [
        "Pytorch provides the equivalent calculations as *loss functions* `l1_loss` and `mse_loss`. L1 norm (abs) is more lenient, whereas L2 norm (mse) will penalise bigger mistakes more heavily. "
      ]
    },
    {
      "cell_type": "code",
      "metadata": {
        "colab": {
          "base_uri": "https://localhost:8080/"
        },
        "id": "mo0qIXhFx7hK",
        "outputId": "c2b2d001-89ec-43f1-ad8b-73633fffaefc"
      },
      "source": [
        "F.l1_loss(three.float(), mean3), F.mse_loss(three, mean3).sqrt()"
      ],
      "execution_count": null,
      "outputs": [
        {
          "output_type": "execute_result",
          "data": {
            "text/plain": [
              "(tensor(0.1063), tensor(0.1868))"
            ]
          },
          "metadata": {
            "tags": []
          },
          "execution_count": 13
        }
      ]
    },
    {
      "cell_type": "code",
      "metadata": {
        "colab": {
          "base_uri": "https://localhost:8080/"
        },
        "id": "KMZIjg1XxncL",
        "outputId": "cf380951-c5b7-4e61-ff06-ae82db74afc8"
      },
      "source": [
        "F.l1_loss(three.float(), mean7), F.mse_loss(three, mean7).sqrt()"
      ],
      "execution_count": null,
      "outputs": [
        {
          "output_type": "execute_result",
          "data": {
            "text/plain": [
              "(tensor(0.1364), tensor(0.2694))"
            ]
          },
          "metadata": {
            "tags": []
          },
          "execution_count": 12
        }
      ]
    }
  ]
}
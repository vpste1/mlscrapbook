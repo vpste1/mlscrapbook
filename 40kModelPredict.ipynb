{
  "nbformat": 4,
  "nbformat_minor": 0,
  "metadata": {
    "colab": {
      "name": "40kModelPredict.ipynb",
      "provenance": [],
      "authorship_tag": "ABX9TyNPtKyfj2LBVCIKFFzM/1Wr",
      "include_colab_link": true
    },
    "kernelspec": {
      "name": "python3",
      "display_name": "Python 3"
    },
    "widgets": {
      "application/vnd.jupyter.widget-state+json": {
        "b33ba4854330449baabdd8bd06d8977d": {
          "model_module": "@jupyter-widgets/controls",
          "model_name": "VBoxModel",
          "state": {
            "_view_name": "VBoxView",
            "_dom_classes": [],
            "_model_name": "VBoxModel",
            "_view_module": "@jupyter-widgets/controls",
            "_model_module_version": "1.5.0",
            "_view_count": null,
            "_view_module_version": "1.5.0",
            "box_style": "",
            "layout": "IPY_MODEL_c8e6aa4381cd43edabb436539c9e57e0",
            "_model_module": "@jupyter-widgets/controls",
            "children": [
              "IPY_MODEL_03fcfbb419bf450b9386e113c990f22b",
              "IPY_MODEL_60ad450656274b6f8c2b1065e084b725",
              "IPY_MODEL_f4f1e210fcea468d8e12f962a02a7939",
              "IPY_MODEL_853db352ab1d4b90bbb4ecf83f744e52",
              "IPY_MODEL_44de5279a7ac4ad6bb172ccc4daacea7"
            ]
          }
        },
        "c8e6aa4381cd43edabb436539c9e57e0": {
          "model_module": "@jupyter-widgets/base",
          "model_name": "LayoutModel",
          "state": {
            "_view_name": "LayoutView",
            "grid_template_rows": null,
            "right": null,
            "justify_content": null,
            "_view_module": "@jupyter-widgets/base",
            "overflow": null,
            "_model_module_version": "1.2.0",
            "_view_count": null,
            "flex_flow": null,
            "width": null,
            "min_width": null,
            "border": null,
            "align_items": null,
            "bottom": null,
            "_model_module": "@jupyter-widgets/base",
            "top": null,
            "grid_column": null,
            "overflow_y": null,
            "overflow_x": null,
            "grid_auto_flow": null,
            "grid_area": null,
            "grid_template_columns": null,
            "flex": null,
            "_model_name": "LayoutModel",
            "justify_items": null,
            "grid_row": null,
            "max_height": null,
            "align_content": null,
            "visibility": null,
            "align_self": null,
            "height": null,
            "min_height": null,
            "padding": null,
            "grid_auto_rows": null,
            "grid_gap": null,
            "max_width": null,
            "order": null,
            "_view_module_version": "1.2.0",
            "grid_template_areas": null,
            "object_position": null,
            "object_fit": null,
            "grid_auto_columns": null,
            "margin": null,
            "display": null,
            "left": null
          }
        },
        "03fcfbb419bf450b9386e113c990f22b": {
          "model_module": "@jupyter-widgets/controls",
          "model_name": "LabelModel",
          "state": {
            "_view_name": "LabelView",
            "style": "IPY_MODEL_b52500549a2840b9af64cfb076e52410",
            "_dom_classes": [],
            "description": "",
            "_model_name": "LabelModel",
            "placeholder": "​",
            "_view_module": "@jupyter-widgets/controls",
            "_model_module_version": "1.5.0",
            "value": "Select your image",
            "_view_count": null,
            "_view_module_version": "1.5.0",
            "description_tooltip": null,
            "_model_module": "@jupyter-widgets/controls",
            "layout": "IPY_MODEL_a1591220828c4ec0914bca97ee7ebbe0"
          }
        },
        "60ad450656274b6f8c2b1065e084b725": {
          "model_module": "@jupyter-widgets/controls",
          "model_name": "FileUploadModel",
          "state": {
            "_view_name": "FileUploadView",
            "_counter": 1,
            "style": "IPY_MODEL_8dde91a3c59c4ef08c3e146045626c6c",
            "_dom_classes": [],
            "description": "Upload",
            "multiple": false,
            "_model_name": "FileUploadModel",
            "data": [
              null
            ],
            "button_style": "",
            "_view_module": "@jupyter-widgets/controls",
            "_model_module_version": "1.5.0",
            "accept": "",
            "_view_count": null,
            "disabled": false,
            "_view_module_version": "1.5.0",
            "error": "",
            "description_tooltip": null,
            "metadata": [
              {
                "name": "99120116003_SicarianRuststalkers01.jpg",
                "type": "image/jpeg",
                "size": 51993,
                "lastModified": 1606451123657
              }
            ],
            "_model_module": "@jupyter-widgets/controls",
            "layout": "IPY_MODEL_d5c982e4986341adadcef90cb0b924ad",
            "icon": "upload"
          }
        },
        "f4f1e210fcea468d8e12f962a02a7939": {
          "model_module": "@jupyter-widgets/controls",
          "model_name": "ButtonModel",
          "state": {
            "_view_name": "ButtonView",
            "style": "IPY_MODEL_0d073141c89843e1b25d17990433ad10",
            "_dom_classes": [],
            "description": "Classify",
            "_model_name": "ButtonModel",
            "button_style": "",
            "_view_module": "@jupyter-widgets/controls",
            "_model_module_version": "1.5.0",
            "tooltip": "",
            "_view_count": null,
            "disabled": false,
            "_view_module_version": "1.5.0",
            "layout": "IPY_MODEL_c01fa2d489124c11a8bac99ae6795ae4",
            "_model_module": "@jupyter-widgets/controls",
            "icon": ""
          }
        },
        "853db352ab1d4b90bbb4ecf83f744e52": {
          "model_module": "@jupyter-widgets/output",
          "model_name": "OutputModel",
          "state": {
            "_view_name": "OutputView",
            "msg_id": "",
            "_dom_classes": [],
            "_model_name": "OutputModel",
            "outputs": [
              {
                "output_type": "display_data",
                "metadata": {
                  "tags": []
                },
                "image/png": "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\n",
                "text/plain": "<PIL.Image.Image image mode=RGB size=124x128 at 0x7F2FD3758400>"
              }
            ],
            "_view_module": "@jupyter-widgets/output",
            "_model_module_version": "1.0.0",
            "_view_count": null,
            "_view_module_version": "1.0.0",
            "layout": "IPY_MODEL_00fcbf05822d4219b84b533050d4b098",
            "_model_module": "@jupyter-widgets/output"
          }
        },
        "44de5279a7ac4ad6bb172ccc4daacea7": {
          "model_module": "@jupyter-widgets/controls",
          "model_name": "LabelModel",
          "state": {
            "_view_name": "LabelView",
            "style": "IPY_MODEL_7fdc0eca0c344ee7acfc5cf859eb0dc1",
            "_dom_classes": [],
            "description": "",
            "_model_name": "LabelModel",
            "placeholder": "​",
            "_view_module": "@jupyter-widgets/controls",
            "_model_module_version": "1.5.0",
            "value": "Prediction: adeptus_mechanicus; Probability: 0.9980",
            "_view_count": null,
            "_view_module_version": "1.5.0",
            "description_tooltip": null,
            "_model_module": "@jupyter-widgets/controls",
            "layout": "IPY_MODEL_687ef56273ca4be590cb68c64b921b22"
          }
        },
        "b52500549a2840b9af64cfb076e52410": {
          "model_module": "@jupyter-widgets/controls",
          "model_name": "DescriptionStyleModel",
          "state": {
            "_view_name": "StyleView",
            "_model_name": "DescriptionStyleModel",
            "description_width": "",
            "_view_module": "@jupyter-widgets/base",
            "_model_module_version": "1.5.0",
            "_view_count": null,
            "_view_module_version": "1.2.0",
            "_model_module": "@jupyter-widgets/controls"
          }
        },
        "a1591220828c4ec0914bca97ee7ebbe0": {
          "model_module": "@jupyter-widgets/base",
          "model_name": "LayoutModel",
          "state": {
            "_view_name": "LayoutView",
            "grid_template_rows": null,
            "right": null,
            "justify_content": null,
            "_view_module": "@jupyter-widgets/base",
            "overflow": null,
            "_model_module_version": "1.2.0",
            "_view_count": null,
            "flex_flow": null,
            "width": null,
            "min_width": null,
            "border": null,
            "align_items": null,
            "bottom": null,
            "_model_module": "@jupyter-widgets/base",
            "top": null,
            "grid_column": null,
            "overflow_y": null,
            "overflow_x": null,
            "grid_auto_flow": null,
            "grid_area": null,
            "grid_template_columns": null,
            "flex": null,
            "_model_name": "LayoutModel",
            "justify_items": null,
            "grid_row": null,
            "max_height": null,
            "align_content": null,
            "visibility": null,
            "align_self": null,
            "height": null,
            "min_height": null,
            "padding": null,
            "grid_auto_rows": null,
            "grid_gap": null,
            "max_width": null,
            "order": null,
            "_view_module_version": "1.2.0",
            "grid_template_areas": null,
            "object_position": null,
            "object_fit": null,
            "grid_auto_columns": null,
            "margin": null,
            "display": null,
            "left": null
          }
        },
        "8dde91a3c59c4ef08c3e146045626c6c": {
          "model_module": "@jupyter-widgets/controls",
          "model_name": "ButtonStyleModel",
          "state": {
            "_view_name": "StyleView",
            "_model_name": "ButtonStyleModel",
            "_view_module": "@jupyter-widgets/base",
            "_model_module_version": "1.5.0",
            "_view_count": null,
            "button_color": null,
            "font_weight": "",
            "_view_module_version": "1.2.0",
            "_model_module": "@jupyter-widgets/controls"
          }
        },
        "d5c982e4986341adadcef90cb0b924ad": {
          "model_module": "@jupyter-widgets/base",
          "model_name": "LayoutModel",
          "state": {
            "_view_name": "LayoutView",
            "grid_template_rows": null,
            "right": null,
            "justify_content": null,
            "_view_module": "@jupyter-widgets/base",
            "overflow": null,
            "_model_module_version": "1.2.0",
            "_view_count": null,
            "flex_flow": null,
            "width": null,
            "min_width": null,
            "border": null,
            "align_items": null,
            "bottom": null,
            "_model_module": "@jupyter-widgets/base",
            "top": null,
            "grid_column": null,
            "overflow_y": null,
            "overflow_x": null,
            "grid_auto_flow": null,
            "grid_area": null,
            "grid_template_columns": null,
            "flex": null,
            "_model_name": "LayoutModel",
            "justify_items": null,
            "grid_row": null,
            "max_height": null,
            "align_content": null,
            "visibility": null,
            "align_self": null,
            "height": null,
            "min_height": null,
            "padding": null,
            "grid_auto_rows": null,
            "grid_gap": null,
            "max_width": null,
            "order": null,
            "_view_module_version": "1.2.0",
            "grid_template_areas": null,
            "object_position": null,
            "object_fit": null,
            "grid_auto_columns": null,
            "margin": null,
            "display": null,
            "left": null
          }
        },
        "0d073141c89843e1b25d17990433ad10": {
          "model_module": "@jupyter-widgets/controls",
          "model_name": "ButtonStyleModel",
          "state": {
            "_view_name": "StyleView",
            "_model_name": "ButtonStyleModel",
            "_view_module": "@jupyter-widgets/base",
            "_model_module_version": "1.5.0",
            "_view_count": null,
            "button_color": null,
            "font_weight": "",
            "_view_module_version": "1.2.0",
            "_model_module": "@jupyter-widgets/controls"
          }
        },
        "c01fa2d489124c11a8bac99ae6795ae4": {
          "model_module": "@jupyter-widgets/base",
          "model_name": "LayoutModel",
          "state": {
            "_view_name": "LayoutView",
            "grid_template_rows": null,
            "right": null,
            "justify_content": null,
            "_view_module": "@jupyter-widgets/base",
            "overflow": null,
            "_model_module_version": "1.2.0",
            "_view_count": null,
            "flex_flow": null,
            "width": null,
            "min_width": null,
            "border": null,
            "align_items": null,
            "bottom": null,
            "_model_module": "@jupyter-widgets/base",
            "top": null,
            "grid_column": null,
            "overflow_y": null,
            "overflow_x": null,
            "grid_auto_flow": null,
            "grid_area": null,
            "grid_template_columns": null,
            "flex": null,
            "_model_name": "LayoutModel",
            "justify_items": null,
            "grid_row": null,
            "max_height": null,
            "align_content": null,
            "visibility": null,
            "align_self": null,
            "height": null,
            "min_height": null,
            "padding": null,
            "grid_auto_rows": null,
            "grid_gap": null,
            "max_width": null,
            "order": null,
            "_view_module_version": "1.2.0",
            "grid_template_areas": null,
            "object_position": null,
            "object_fit": null,
            "grid_auto_columns": null,
            "margin": null,
            "display": null,
            "left": null
          }
        },
        "7fdc0eca0c344ee7acfc5cf859eb0dc1": {
          "model_module": "@jupyter-widgets/controls",
          "model_name": "DescriptionStyleModel",
          "state": {
            "_view_name": "StyleView",
            "_model_name": "DescriptionStyleModel",
            "description_width": "",
            "_view_module": "@jupyter-widgets/base",
            "_model_module_version": "1.5.0",
            "_view_count": null,
            "_view_module_version": "1.2.0",
            "_model_module": "@jupyter-widgets/controls"
          }
        },
        "687ef56273ca4be590cb68c64b921b22": {
          "model_module": "@jupyter-widgets/base",
          "model_name": "LayoutModel",
          "state": {
            "_view_name": "LayoutView",
            "grid_template_rows": null,
            "right": null,
            "justify_content": null,
            "_view_module": "@jupyter-widgets/base",
            "overflow": null,
            "_model_module_version": "1.2.0",
            "_view_count": null,
            "flex_flow": null,
            "width": null,
            "min_width": null,
            "border": null,
            "align_items": null,
            "bottom": null,
            "_model_module": "@jupyter-widgets/base",
            "top": null,
            "grid_column": null,
            "overflow_y": null,
            "overflow_x": null,
            "grid_auto_flow": null,
            "grid_area": null,
            "grid_template_columns": null,
            "flex": null,
            "_model_name": "LayoutModel",
            "justify_items": null,
            "grid_row": null,
            "max_height": null,
            "align_content": null,
            "visibility": null,
            "align_self": null,
            "height": null,
            "min_height": null,
            "padding": null,
            "grid_auto_rows": null,
            "grid_gap": null,
            "max_width": null,
            "order": null,
            "_view_module_version": "1.2.0",
            "grid_template_areas": null,
            "object_position": null,
            "object_fit": null,
            "grid_auto_columns": null,
            "margin": null,
            "display": null,
            "left": null
          }
        },
        "00fcbf05822d4219b84b533050d4b098": {
          "model_module": "@jupyter-widgets/base",
          "model_name": "LayoutModel",
          "state": {
            "_view_name": "LayoutView",
            "grid_template_rows": null,
            "right": null,
            "justify_content": null,
            "_view_module": "@jupyter-widgets/base",
            "overflow": null,
            "_model_module_version": "1.2.0",
            "_view_count": null,
            "flex_flow": null,
            "width": null,
            "min_width": null,
            "border": null,
            "align_items": null,
            "bottom": null,
            "_model_module": "@jupyter-widgets/base",
            "top": null,
            "grid_column": null,
            "overflow_y": null,
            "overflow_x": null,
            "grid_auto_flow": null,
            "grid_area": null,
            "grid_template_columns": null,
            "flex": null,
            "_model_name": "LayoutModel",
            "justify_items": null,
            "grid_row": null,
            "max_height": null,
            "align_content": null,
            "visibility": null,
            "align_self": null,
            "height": null,
            "min_height": null,
            "padding": null,
            "grid_auto_rows": null,
            "grid_gap": null,
            "max_width": null,
            "order": null,
            "_view_module_version": "1.2.0",
            "grid_template_areas": null,
            "object_position": null,
            "object_fit": null,
            "grid_auto_columns": null,
            "margin": null,
            "display": null,
            "left": null
          }
        }
      }
    }
  },
  "cells": [
    {
      "cell_type": "markdown",
      "metadata": {
        "id": "view-in-github",
        "colab_type": "text"
      },
      "source": [
        "<a href=\"https://colab.research.google.com/github/vpste1/mlscrapbook/blob/master/40kModelPredict.ipynb\" target=\"_parent\"><img src=\"https://colab.research.google.com/assets/colab-badge.svg\" alt=\"Open In Colab\"/></a>"
      ]
    },
    {
      "cell_type": "code",
      "metadata": {
        "colab": {
          "base_uri": "https://localhost:8080/"
        },
        "id": "-31vowVz5Z_o",
        "outputId": "fdac433b-b706-4c7e-cfa8-4f3a4bfa8034"
      },
      "source": [
        "!pip install -Uqq fastbook\n",
        "import fastbook\n",
        "fastbook.setup_book()"
      ],
      "execution_count": 2,
      "outputs": [
        {
          "output_type": "stream",
          "text": [
            "\u001b[K     |████████████████████████████████| 727kB 5.5MB/s \n",
            "\u001b[K     |████████████████████████████████| 1.1MB 8.7MB/s \n",
            "\u001b[K     |████████████████████████████████| 51kB 5.8MB/s \n",
            "\u001b[K     |████████████████████████████████| 51kB 5.5MB/s \n",
            "\u001b[K     |████████████████████████████████| 194kB 16.7MB/s \n",
            "\u001b[K     |████████████████████████████████| 51kB 5.8MB/s \n",
            "\u001b[K     |████████████████████████████████| 40kB 5.1MB/s \n",
            "\u001b[K     |████████████████████████████████| 92kB 8.1MB/s \n",
            "\u001b[K     |████████████████████████████████| 61kB 6.7MB/s \n",
            "\u001b[K     |████████████████████████████████| 51kB 5.8MB/s \n",
            "\u001b[K     |████████████████████████████████| 2.6MB 19.1MB/s \n",
            "\u001b[?25hMounted at /content/gdrive\n"
          ],
          "name": "stdout"
        }
      ]
    },
    {
      "cell_type": "code",
      "metadata": {
        "id": "_Ir0r2rX5ciS"
      },
      "source": [
        "from fastbook import *\n",
        "from fastai.vision.widgets import *"
      ],
      "execution_count": 4,
      "outputs": []
    },
    {
      "cell_type": "markdown",
      "metadata": {
        "id": "XxIBBaB37dme"
      },
      "source": [
        "Upload the exported pkl"
      ]
    },
    {
      "cell_type": "code",
      "metadata": {
        "id": "OtNer7fg43U0"
      },
      "source": [
        "path = Path()\n",
        "learn_inf = load_learner(path/'export.pkl')"
      ],
      "execution_count": 21,
      "outputs": []
    },
    {
      "cell_type": "code",
      "metadata": {
        "id": "XCbkLt2Q5HBQ"
      },
      "source": [
        "btn_upload = widgets.FileUpload()"
      ],
      "execution_count": 22,
      "outputs": []
    },
    {
      "cell_type": "code",
      "metadata": {
        "id": "xrYN6-dH5ImJ"
      },
      "source": [
        "\n",
        "out_pl = widgets.Output()\n",
        "out_pl.clear_output()\n"
      ],
      "execution_count": 23,
      "outputs": []
    },
    {
      "cell_type": "code",
      "metadata": {
        "id": "qWQvGBwS7-Dh"
      },
      "source": [
        "btn_run = widgets.Button(description='Classify')"
      ],
      "execution_count": 25,
      "outputs": []
    },
    {
      "cell_type": "code",
      "metadata": {
        "id": "20N_qKXl5RdN"
      },
      "source": [
        "def on_click_classify(change):\n",
        "    img = PILImage.create(btn_upload.data[-1])\n",
        "    out_pl.clear_output()\n",
        "    with out_pl: display(img.to_thumb(128,128))\n",
        "    pred,pred_idx,probs = learn_inf.predict(img)\n",
        "    lbl_pred.value = f'Prediction: {pred}; Probability: {probs[pred_idx]:.04f}'\n",
        "\n",
        "btn_run.on_click(on_click_classify)"
      ],
      "execution_count": 26,
      "outputs": []
    },
    {
      "cell_type": "code",
      "metadata": {
        "colab": {
          "base_uri": "https://localhost:8080/",
          "height": 273,
          "referenced_widgets": [
            "b33ba4854330449baabdd8bd06d8977d",
            "c8e6aa4381cd43edabb436539c9e57e0",
            "03fcfbb419bf450b9386e113c990f22b",
            "60ad450656274b6f8c2b1065e084b725",
            "f4f1e210fcea468d8e12f962a02a7939",
            "853db352ab1d4b90bbb4ecf83f744e52",
            "44de5279a7ac4ad6bb172ccc4daacea7",
            "b52500549a2840b9af64cfb076e52410",
            "a1591220828c4ec0914bca97ee7ebbe0",
            "8dde91a3c59c4ef08c3e146045626c6c",
            "d5c982e4986341adadcef90cb0b924ad",
            "0d073141c89843e1b25d17990433ad10",
            "c01fa2d489124c11a8bac99ae6795ae4",
            "7fdc0eca0c344ee7acfc5cf859eb0dc1",
            "687ef56273ca4be590cb68c64b921b22",
            "00fcbf05822d4219b84b533050d4b098"
          ]
        },
        "id": "MPQW0LHY5XET",
        "outputId": "f375ba00-17e9-44f2-8915-5b7657f0d13a"
      },
      "source": [
        "VBox([widgets.Label('Select your image'), \n",
        "      btn_upload, btn_run, out_pl, lbl_pred])"
      ],
      "execution_count": 28,
      "outputs": [
        {
          "output_type": "display_data",
          "data": {
            "application/vnd.jupyter.widget-view+json": {
              "model_id": "b33ba4854330449baabdd8bd06d8977d",
              "version_minor": 0,
              "version_major": 2
            },
            "text/plain": [
              "VBox(children=(Label(value='Select your image'), FileUpload(value={'99120116003_SicarianRuststalkers01.jpg': {…"
            ]
          },
          "metadata": {
            "tags": []
          }
        }
      ]
    }
  ]
}
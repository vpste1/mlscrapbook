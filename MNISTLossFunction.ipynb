{
  "nbformat": 4,
  "nbformat_minor": 0,
  "metadata": {
    "colab": {
      "name": "MNISTLossFunction.ipynb",
      "provenance": [],
      "collapsed_sections": [],
      "authorship_tag": "ABX9TyOP8cdylzjnfXH9alWD3wmm",
      "include_colab_link": true
    },
    "kernelspec": {
      "name": "python3",
      "display_name": "Python 3"
    },
    "accelerator": "GPU"
  },
  "cells": [
    {
      "cell_type": "markdown",
      "metadata": {
        "id": "view-in-github",
        "colab_type": "text"
      },
      "source": [
        "<a href=\"https://colab.research.google.com/github/vpste1/mlscrapbook/blob/master/MNISTLossFunction.ipynb\" target=\"_parent\"><img src=\"https://colab.research.google.com/assets/colab-badge.svg\" alt=\"Open In Colab\"/></a>"
      ]
    },
    {
      "cell_type": "code",
      "metadata": {
        "colab": {
          "base_uri": "https://localhost:8080/"
        },
        "id": "PAp-aKo4e5Ii",
        "outputId": "e4a73ef7-b180-419e-c5dd-7e039c772b22"
      },
      "source": [
        "!pip install -Uqq fastbook\n",
        "import fastbook\n",
        "fastbook.setup_book()"
      ],
      "execution_count": null,
      "outputs": [
        {
          "output_type": "stream",
          "text": [
            "\u001b[K     |████████████████████████████████| 727kB 5.7MB/s \n",
            "\u001b[K     |████████████████████████████████| 194kB 8.0MB/s \n",
            "\u001b[K     |████████████████████████████████| 1.1MB 11.4MB/s \n",
            "\u001b[K     |████████████████████████████████| 51kB 7.1MB/s \n",
            "\u001b[K     |████████████████████████████████| 61kB 8.5MB/s \n",
            "\u001b[?25hMounted at /content/gdrive\n"
          ],
          "name": "stdout"
        }
      ]
    },
    {
      "cell_type": "code",
      "metadata": {
        "id": "HCrzUcp7fCB1"
      },
      "source": [
        "from fastai.vision.all import *\n",
        "from fastbook import *\n",
        "\n",
        "matplotlib.rc('image', cmap='Greys')"
      ],
      "execution_count": null,
      "outputs": []
    },
    {
      "cell_type": "code",
      "metadata": {
        "colab": {
          "base_uri": "https://localhost:8080/",
          "height": 17
        },
        "id": "TGAlHq92fPqL",
        "outputId": "dadb6e56-0035-4a7a-f6c0-ab2bda3b192a"
      },
      "source": [
        "path = untar_data(URLs.MNIST_SAMPLE)\n",
        "Path.BASE_PATH = path"
      ],
      "execution_count": null,
      "outputs": [
        {
          "output_type": "display_data",
          "data": {
            "text/html": [
              ""
            ],
            "text/plain": [
              "<IPython.core.display.HTML object>"
            ]
          },
          "metadata": {
            "tags": []
          }
        }
      ]
    },
    {
      "cell_type": "markdown",
      "metadata": {
        "id": "56f3I0kif6cM"
      },
      "source": [
        "Load the training sets"
      ]
    },
    {
      "cell_type": "code",
      "metadata": {
        "colab": {
          "base_uri": "https://localhost:8080/"
        },
        "id": "Gm07jnwcf7-x",
        "outputId": "278af4b8-53fa-4960-d3c3-9c5161d847a3"
      },
      "source": [
        "train_3_tens = torch.stack([tensor(Image.open(o)) \n",
        "                            for o in (path/'train'/'3').ls()])\n",
        "train_3_tens = train_3_tens.float()/255\n",
        "train_7_tens = torch.stack([tensor(Image.open(o)) \n",
        "                            for o in (path/'train'/'7').ls()])\n",
        "train_7_tens = train_7_tens.float()/255\n",
        "train_3_tens.shape,train_7_tens.shape"
      ],
      "execution_count": null,
      "outputs": [
        {
          "output_type": "execute_result",
          "data": {
            "text/plain": [
              "(torch.Size([6131, 28, 28]), torch.Size([6265, 28, 28]))"
            ]
          },
          "metadata": {
            "tags": []
          },
          "execution_count": 4
        }
      ]
    },
    {
      "cell_type": "markdown",
      "metadata": {
        "id": "NcLcQF_7f2V0"
      },
      "source": [
        "Load the validation sets"
      ]
    },
    {
      "cell_type": "code",
      "metadata": {
        "colab": {
          "base_uri": "https://localhost:8080/"
        },
        "id": "nXkPHoPEfUWs",
        "outputId": "58b2eccf-1ffd-4cf8-f621-b47b3e6f05f1"
      },
      "source": [
        "valid_3_tens = torch.stack([tensor(Image.open(o)) \n",
        "                            for o in (path/'valid'/'3').ls()])\n",
        "valid_3_tens = valid_3_tens.float()/255\n",
        "valid_7_tens = torch.stack([tensor(Image.open(o)) \n",
        "                            for o in (path/'valid'/'7').ls()])\n",
        "valid_7_tens = valid_7_tens.float()/255\n",
        "valid_3_tens.shape,valid_7_tens.shape"
      ],
      "execution_count": null,
      "outputs": [
        {
          "output_type": "execute_result",
          "data": {
            "text/plain": [
              "(torch.Size([1010, 28, 28]), torch.Size([1028, 28, 28]))"
            ]
          },
          "metadata": {
            "tags": []
          },
          "execution_count": 5
        }
      ]
    },
    {
      "cell_type": "markdown",
      "metadata": {
        "id": "nZNA6cPlQhP5"
      },
      "source": [
        "Stretch each 28x28 image into a 1x784 tensor, and stack them to form a rank 2 tensor with all images represented as rank 1 tensors.\n",
        "\n",
        "Then generate a rank 1 tensor with all the y data (1 for threes and 0 for sevens).\n",
        "\n",
        "Below we have 12396 images."
      ]
    },
    {
      "cell_type": "code",
      "metadata": {
        "colab": {
          "base_uri": "https://localhost:8080/"
        },
        "id": "fvdxovwqW0_V",
        "outputId": "9e36c4dc-39ae-40f1-f5fa-bde35ca16942"
      },
      "source": [
        "train_x = torch.cat([train_3_tens, train_7_tens]).view(-1, 28*28)\n",
        "train_y = tensor([1]*train_3_tens.shape[0] + [0]*train_7_tens.shape[0]).unsqueeze(1)\n",
        "train_x.shape,train_y.shape"
      ],
      "execution_count": null,
      "outputs": [
        {
          "output_type": "execute_result",
          "data": {
            "text/plain": [
              "(torch.Size([12396, 784]), torch.Size([12396, 1]))"
            ]
          },
          "metadata": {
            "tags": []
          },
          "execution_count": 6
        }
      ]
    },
    {
      "cell_type": "markdown",
      "metadata": {
        "id": "i8KZgSgyRiUT"
      },
      "source": [
        "Define a way to randomly initialise paramters (both weights and bias)."
      ]
    },
    {
      "cell_type": "code",
      "metadata": {
        "id": "z_tIThCxNSwP"
      },
      "source": [
        "def init_params(size, variance=1.0): return (torch.randn(size)*variance).requires_grad_()"
      ],
      "execution_count": null,
      "outputs": []
    },
    {
      "cell_type": "code",
      "metadata": {
        "id": "f0pL85svNSwP"
      },
      "source": [
        "weights = init_params((28*28,1))"
      ],
      "execution_count": null,
      "outputs": []
    },
    {
      "cell_type": "code",
      "metadata": {
        "id": "kwB1mPUWNSwP"
      },
      "source": [
        "bias = init_params(1)"
      ],
      "execution_count": null,
      "outputs": []
    },
    {
      "cell_type": "code",
      "metadata": {
        "id": "zX-lcGuAZNej"
      },
      "source": [
        "def linear1(xb): return xb@weights + bias"
      ],
      "execution_count": null,
      "outputs": []
    },
    {
      "cell_type": "markdown",
      "metadata": {
        "id": "02vigFkrSFV9"
      },
      "source": [
        "If we were to follow a linear model, and say `train_x@weights + bias` we would end up with a rank 1 tensor of all the different predictions for each image (12396x1 in size).\n",
        "\n",
        "If we said any prediction greater than zero is a 3, and define our accuracy (traditionally a metric) as our loss function, we would find that small adjustments to paramters can result in nothing crossing the threshold, and the loss not changing. We essentially have a zero-gradient almost everywhere for this kind of loss function. \n",
        "\n",
        "We need a better representation of loss so that we can measure things more granularly heading in the right direction."
      ]
    },
    {
      "cell_type": "markdown",
      "metadata": {
        "id": "KgT8TdBmTTlb"
      },
      "source": [
        "For the next section, we will be using smaller samples of data to demonstrate a better loss function. We have a target tensor, and a prediction tensor. The \"closeness\" of the prediction to the target is our loss:"
      ]
    },
    {
      "cell_type": "code",
      "metadata": {
        "id": "bvY-D0SaS_Cu"
      },
      "source": [
        "trgts  = tensor([1,0,1])\n",
        "prds   = tensor([0.9, 0.4, 0.2])"
      ],
      "execution_count": null,
      "outputs": []
    },
    {
      "cell_type": "markdown",
      "metadata": {
        "id": "D4LBS6ffTqLw"
      },
      "source": [
        "`torch.where(a, b, c)` could be rewritten as `targets==1 ? 1-pred : pred`. We are essentially saying, if the target is 1, the loss should be its distance from one; otherwise its loss is the distance from 0."
      ]
    },
    {
      "cell_type": "code",
      "metadata": {
        "id": "c5s2WDRNNSwP"
      },
      "source": [
        "def mnist_loss(predictions, targets):\n",
        "    return torch.where(targets==1, 1-predictions, predictions).mean()"
      ],
      "execution_count": null,
      "outputs": []
    },
    {
      "cell_type": "markdown",
      "metadata": {
        "id": "nmgmMzoUUO2v"
      },
      "source": [
        "Tweaking our predictions to be closer to their targets will reduce the overall loss:"
      ]
    },
    {
      "cell_type": "code",
      "metadata": {
        "id": "jjdgTEKhNSwP",
        "colab": {
          "base_uri": "https://localhost:8080/"
        },
        "outputId": "b9fe9d76-1942-4954-8223-17b67f4d8a75"
      },
      "source": [
        "mnist_loss(tensor([0.9, 0.4, 0.99]),trgts)"
      ],
      "execution_count": null,
      "outputs": [
        {
          "output_type": "execute_result",
          "data": {
            "text/plain": [
              "tensor(0.1700)"
            ]
          },
          "metadata": {
            "tags": []
          },
          "execution_count": 14
        }
      ]
    },
    {
      "cell_type": "markdown",
      "metadata": {
        "id": "_NClJ_Q0Ujve"
      },
      "source": [
        "Our current definition of `mnist_loss` relies on the predictions being between a 0 and a 1; something that a *sigmoid* can help translate our data to."
      ]
    },
    {
      "cell_type": "code",
      "metadata": {
        "id": "TdaxwvtdUY91"
      },
      "source": [
        "def sigmoid(x): return 1/(1+torch.exp(-x))"
      ],
      "execution_count": null,
      "outputs": []
    },
    {
      "cell_type": "code",
      "metadata": {
        "colab": {
          "base_uri": "https://localhost:8080/",
          "height": 335
        },
        "id": "ly2O2xrlUTuJ",
        "outputId": "fed04e72-486e-4528-d356-1963bacb04c3"
      },
      "source": [
        "plot_function(torch.sigmoid, title='Sigmoid', min=-4, max=4)"
      ],
      "execution_count": null,
      "outputs": [
        {
          "output_type": "stream",
          "text": [
            "/usr/local/lib/python3.6/dist-packages/fastbook/__init__.py:73: UserWarning: Not providing a value for linspace's steps is deprecated and will throw a runtime error in a future release. This warning will appear only once per process. (Triggered internally at  /pytorch/aten/src/ATen/native/RangeFactories.cpp:23.)\n",
            "  x = torch.linspace(min,max)\n"
          ],
          "name": "stderr"
        },
        {
          "output_type": "display_data",
          "data": {
            "image/png": "[encoded data removed]",
            "text/plain": [
              "<Figure size 432x288 with 1 Axes>"
            ]
          },
          "metadata": {
            "tags": [],
            "needs_background": "light"
          }
        }
      ]
    },
    {
      "cell_type": "markdown",
      "metadata": {
        "id": "2tP6VVv4Utby"
      },
      "source": [
        "Let's update our definition of the `mnist_loss` function to take predictions and spread them between 0 and 1:"
      ]
    },
    {
      "cell_type": "code",
      "metadata": {
        "id": "C6oqcvAbUzj6"
      },
      "source": [
        "def mnist_loss(predictions, targets):\n",
        "    predictions = predictions.sigmoid()\n",
        "    return torch.where(targets==1, 1-predictions, predictions).mean()"
      ],
      "execution_count": null,
      "outputs": []
    },
    {
      "cell_type": "markdown",
      "metadata": {
        "id": "wp9VOhvrVEVA"
      },
      "source": [
        "Before moving forwards, a note on optimisation. If we were to calculate the loss of our model on the entire data set, it would be too slow. If we were to do it on a single item, we would only be gauging the models loss on that item. \n",
        "\n",
        "The best route is a compromise between the two: calculating the loss for a few titems at a time; known as a *mini-batch*. The number of items in a mini-batch is known as the batch size. A larger batch size results in a more stable estimate, but more time per epoch.\n",
        "\n",
        "Batches can also be paralellised which is optimal for GPU processing.\n",
        "\n",
        "We will also be shuffling our mini-batches each epoch to vary our data for better generalisation during training (avoiding over-fitting).\n",
        "\n",
        "`DataLoader` can do this shuffling and batching for us:"
      ]
    },
    {
      "cell_type": "code",
      "metadata": {
        "id": "Fhb2hZcpNSwQ",
        "colab": {
          "base_uri": "https://localhost:8080/"
        },
        "outputId": "d6364ba1-e7f4-4350-a1a3-604ab64fa2c1"
      },
      "source": [
        "coll = range(15)\n",
        "dl = DataLoader(coll, batch_size=5, shuffle=True)\n",
        "list(dl)"
      ],
      "execution_count": null,
      "outputs": [
        {
          "output_type": "execute_result",
          "data": {
            "text/plain": [
              "[tensor([ 3, 12,  8, 10,  2]),\n",
              " tensor([ 9,  4,  7, 14,  5]),\n",
              " tensor([ 1, 13,  0,  6, 11])]"
            ]
          },
          "metadata": {
            "tags": []
          },
          "execution_count": 18
        }
      ]
    },
    {
      "cell_type": "markdown",
      "metadata": {
        "id": "ydty6xPkWfeJ"
      },
      "source": [
        "When training a model, we not only have inputs but we have their intended targets (X and Y). \n",
        "\n",
        "A collection that contains tuples of independent and dependent variables is known as a `Dataset`.\n",
        "\n",
        "Here is a simple `Dataset`:"
      ]
    },
    {
      "cell_type": "code",
      "metadata": {
        "id": "GhfUZQkSNSwQ",
        "colab": {
          "base_uri": "https://localhost:8080/"
        },
        "outputId": "445d810e-180b-426b-a9f0-a6efe56e1c9a"
      },
      "source": [
        "ds = L(enumerate(string.ascii_lowercase))\n",
        "ds"
      ],
      "execution_count": null,
      "outputs": [
        {
          "output_type": "execute_result",
          "data": {
            "text/plain": [
              "(#26) [(0, 'a'),(1, 'b'),(2, 'c'),(3, 'd'),(4, 'e'),(5, 'f'),(6, 'g'),(7, 'h'),(8, 'i'),(9, 'j')...]"
            ]
          },
          "metadata": {
            "tags": []
          },
          "execution_count": 19
        }
      ]
    },
    {
      "cell_type": "code",
      "metadata": {
        "colab": {
          "base_uri": "https://localhost:8080/"
        },
        "id": "IKd8VfmHW2gE",
        "outputId": "bb1cda2e-7e8b-4c64-dad4-bc1a3cb81e98"
      },
      "source": [
        "dl = DataLoader(ds, batch_size=6, shuffle=True)\n",
        "list(dl)"
      ],
      "execution_count": null,
      "outputs": [
        {
          "output_type": "execute_result",
          "data": {
            "text/plain": [
              "[(tensor([17, 18, 10, 22,  8, 14]), ('r', 's', 'k', 'w', 'i', 'o')),\n",
              " (tensor([20, 15,  9, 13, 21, 12]), ('u', 'p', 'j', 'n', 'v', 'm')),\n",
              " (tensor([ 7, 25,  6,  5, 11, 23]), ('h', 'z', 'g', 'f', 'l', 'x')),\n",
              " (tensor([ 1,  3,  0, 24, 19, 16]), ('b', 'd', 'a', 'y', 't', 'q')),\n",
              " (tensor([2, 4]), ('c', 'e'))]"
            ]
          },
          "metadata": {
            "tags": []
          },
          "execution_count": 20
        }
      ]
    },
    {
      "cell_type": "code",
      "metadata": {
        "id": "SjJRTOKKNSwQ"
      },
      "source": [
        "weights = init_params((28*28,1))\n",
        "bias = init_params(1)"
      ],
      "execution_count": null,
      "outputs": []
    },
    {
      "cell_type": "markdown",
      "metadata": {
        "id": "KTRTeXb0NSwP"
      },
      "source": [
        "A `Dataset` in PyTorch is required to return a tuple of `(x,y)` when indexed. Python provides a `zip` function which, when combined with `list`, provides a simple way to get this functionality:"
      ]
    },
    {
      "cell_type": "code",
      "metadata": {
        "id": "Dbqjlcg9NSwP",
        "colab": {
          "base_uri": "https://localhost:8080/"
        },
        "outputId": "2656bfcd-a1b3-4038-b2d5-bf1ae1f90671"
      },
      "source": [
        "dset = list(zip(train_x,train_y))\n",
        "x,y = dset[9000]\n",
        "x.shape,y"
      ],
      "execution_count": null,
      "outputs": [
        {
          "output_type": "execute_result",
          "data": {
            "text/plain": [
              "(torch.Size([784]), tensor([0]))"
            ]
          },
          "metadata": {
            "tags": []
          },
          "execution_count": 22
        }
      ]
    },
    {
      "cell_type": "code",
      "metadata": {
        "id": "vZvU5yG0NSwP"
      },
      "source": [
        "valid_x = torch.cat([valid_3_tens, valid_7_tens]).view(-1, 28*28)\n",
        "valid_y = tensor([1]*len(valid_3_tens) + [0]*len(valid_7_tens)).unsqueeze(1)\n",
        "valid_dset = list(zip(valid_x,valid_y))"
      ],
      "execution_count": null,
      "outputs": []
    },
    {
      "cell_type": "code",
      "metadata": {
        "id": "LRrDeTbfNSwQ",
        "colab": {
          "base_uri": "https://localhost:8080/"
        },
        "outputId": "c46a5300-974a-4d4a-8f58-124dbbe09740"
      },
      "source": [
        "dl = DataLoader(dset, batch_size=256)\n",
        "xb,yb = first(dl)\n",
        "xb.shape,yb.shape"
      ],
      "execution_count": null,
      "outputs": [
        {
          "output_type": "execute_result",
          "data": {
            "text/plain": [
              "(torch.Size([256, 784]), torch.Size([256, 1]))"
            ]
          },
          "metadata": {
            "tags": []
          },
          "execution_count": 25
        }
      ]
    },
    {
      "cell_type": "code",
      "metadata": {
        "id": "2UmUijagYdvZ"
      },
      "source": [
        "valid_dl = DataLoader(valid_dset, batch_size=256)"
      ],
      "execution_count": null,
      "outputs": []
    },
    {
      "cell_type": "markdown",
      "metadata": {
        "id": "R5YLrWMrYsBe"
      },
      "source": [
        "To start with, let's make our own mini-batch from the training data of size 4:"
      ]
    },
    {
      "cell_type": "code",
      "metadata": {
        "colab": {
          "base_uri": "https://localhost:8080/"
        },
        "id": "roHLHWkeYoo1",
        "outputId": "622f7acd-572a-46b3-ba57-aa9d5cd33675"
      },
      "source": [
        "batch = train_x[:4]\n",
        "batch.shape"
      ],
      "execution_count": null,
      "outputs": [
        {
          "output_type": "execute_result",
          "data": {
            "text/plain": [
              "torch.Size([4, 784])"
            ]
          },
          "metadata": {
            "tags": []
          },
          "execution_count": 27
        }
      ]
    },
    {
      "cell_type": "markdown",
      "metadata": {
        "id": "Ms5y3Z9FY6nO"
      },
      "source": [
        "Let's run our linear model against it and get the prediction tensor:"
      ]
    },
    {
      "cell_type": "code",
      "metadata": {
        "colab": {
          "base_uri": "https://localhost:8080/"
        },
        "id": "dLZe8tDsY_SR",
        "outputId": "4e7818bc-38b9-4a8b-db22-a25c3dbd7cd7"
      },
      "source": [
        "preds = linear1(batch)\n",
        "preds"
      ],
      "execution_count": null,
      "outputs": [
        {
          "output_type": "execute_result",
          "data": {
            "text/plain": [
              "tensor([[14.5414],\n",
              "        [13.6568],\n",
              "        [ 1.7618],\n",
              "        [ 7.1211]], grad_fn=<AddBackward0>)"
            ]
          },
          "metadata": {
            "tags": []
          },
          "execution_count": 28
        }
      ]
    },
    {
      "cell_type": "markdown",
      "metadata": {
        "id": "EdAopAC8ZoHP"
      },
      "source": [
        "Input those predictions into our `mnist_loss` (which utlises a sigmoid function) and compare them the the dependant data (targets) `train_y` to calculate the loss: "
      ]
    },
    {
      "cell_type": "code",
      "metadata": {
        "id": "QgQAvEcDNSwQ",
        "colab": {
          "base_uri": "https://localhost:8080/"
        },
        "outputId": "cb9717fc-27f4-4f9d-bbff-1da0dcbbb792"
      },
      "source": [
        "loss = mnist_loss(preds, train_y[:4])\n",
        "loss"
      ],
      "execution_count": null,
      "outputs": [
        {
          "output_type": "execute_result",
          "data": {
            "text/plain": [
              "tensor(0.0368, grad_fn=<MeanBackward0>)"
            ]
          },
          "metadata": {
            "tags": []
          },
          "execution_count": 29
        }
      ]
    },
    {
      "cell_type": "markdown",
      "metadata": {
        "id": "ucD2ptZleNhY"
      },
      "source": [
        ""
      ]
    },
    {
      "cell_type": "markdown",
      "metadata": {
        "id": "k0FduOgVZ01a"
      },
      "source": [
        "Calculate the gradients:"
      ]
    },
    {
      "cell_type": "code",
      "metadata": {
        "id": "TquYGWMENSwQ",
        "colab": {
          "base_uri": "https://localhost:8080/"
        },
        "outputId": "4cd9e738-097f-47f8-8dbb-6731e0294098"
      },
      "source": [
        "loss.backward()\n",
        "weights.grad.shape,weights.grad.mean(),bias.grad"
      ],
      "execution_count": null,
      "outputs": [
        {
          "output_type": "execute_result",
          "data": {
            "text/plain": [
              "(torch.Size([784, 1]), tensor(-0.0046), tensor([-0.0315]))"
            ]
          },
          "metadata": {
            "tags": []
          },
          "execution_count": 30
        }
      ]
    },
    {
      "cell_type": "markdown",
      "metadata": {
        "id": "MbpzMG7HexX9"
      },
      "source": [
        "We can combine each of the steps into a single function:\n",
        "- Calculate the predictions based off a passed in model (we have been using linear1)\n",
        "- Calculate the loss from those predictions\n",
        "- Call `loss.backward()` to get the gradients of the weights and bias with respect to loss"
      ]
    },
    {
      "cell_type": "code",
      "metadata": {
        "id": "tRR72L4MNSwQ"
      },
      "source": [
        "def calc_grad(xb, yb, model):\n",
        "    preds = model(xb)\n",
        "    loss = mnist_loss(preds, yb)\n",
        "    loss.backward()"
      ],
      "execution_count": null,
      "outputs": []
    },
    {
      "cell_type": "markdown",
      "metadata": {
        "id": "Z1Q8E9u3NSwQ"
      },
      "source": [
        "and test it:"
      ]
    },
    {
      "cell_type": "code",
      "metadata": {
        "id": "nOld28qtNSwQ",
        "colab": {
          "base_uri": "https://localhost:8080/"
        },
        "outputId": "b4ab567b-f6c4-4fda-d0a4-15a1e7ce31b6"
      },
      "source": [
        "calc_grad(batch, train_y[:4], linear1)\n",
        "weights.grad.mean(),bias.grad"
      ],
      "execution_count": null,
      "outputs": [
        {
          "output_type": "execute_result",
          "data": {
            "text/plain": [
              "(tensor(-0.0137), tensor([-0.0944]))"
            ]
          },
          "metadata": {
            "tags": []
          },
          "execution_count": 34
        }
      ]
    },
    {
      "cell_type": "markdown",
      "metadata": {
        "id": "tNCTzJ2GftO2"
      },
      "source": [
        "**Important:** `loss.backward()` adds the gradients of loss to any gradients that are currently stored; for this reason we have to set the current gradients to zero first. This behaviour has a purose that is not yet covered.\n",
        "\n",
        "To zero the gradients, do the following:"
      ]
    },
    {
      "cell_type": "code",
      "metadata": {
        "id": "0Dz1OaxLgAKg"
      },
      "source": [
        "weights.grad.zero_()\n",
        "bias.grad.zero_();"
      ],
      "execution_count": null,
      "outputs": []
    },
    {
      "cell_type": "markdown",
      "metadata": {
        "id": "tbeILM57gfOp"
      },
      "source": [
        "The next function updates the weights and the bias via the gradient and learning rate. \n",
        "\n",
        "We need to specify to Pytorch that we don't want the gradient of this step too; so we assign the data with `p.data`. We then zero out the gradients for the next step (or epoch) of loss calculation."
      ]
    },
    {
      "cell_type": "code",
      "metadata": {
        "id": "rEaKhUp3NSwR"
      },
      "source": [
        "def train_epoch(model, lr, params):\n",
        "    for xb,yb in dl:\n",
        "        calc_grad(xb, yb, model)\n",
        "        for p in params:\n",
        "            p.data -= p.grad*lr\n",
        "            p.grad.zero_()"
      ],
      "execution_count": null,
      "outputs": []
    },
    {
      "cell_type": "markdown",
      "metadata": {
        "id": "6HBAJu1Hhlnd"
      },
      "source": [
        "Recall that that the sigmoid function will spread the predictions across a 0->1 for us, which means now the threshold for a prediction is 0.5."
      ]
    },
    {
      "cell_type": "code",
      "metadata": {
        "id": "EcHfJQDuNSwR"
      },
      "source": [
        "def batch_accuracy(xb, yb):\n",
        "    preds = xb.sigmoid()\n",
        "    correct = (preds>0.5) == yb\n",
        "    return correct.float().mean()"
      ],
      "execution_count": null,
      "outputs": []
    },
    {
      "cell_type": "code",
      "metadata": {
        "colab": {
          "base_uri": "https://localhost:8080/"
        },
        "id": "6K_tbqKahpYZ",
        "outputId": "47ae9e5c-30a5-417f-e776-1ce3d836b81d"
      },
      "source": [
        "batch_accuracy(linear1(batch), train_y[:4])"
      ],
      "execution_count": null,
      "outputs": [
        {
          "output_type": "execute_result",
          "data": {
            "text/plain": [
              "tensor(1.)"
            ]
          },
          "metadata": {
            "tags": []
          },
          "execution_count": 38
        }
      ]
    },
    {
      "cell_type": "code",
      "metadata": {
        "id": "KoDK4ybFhs7B"
      },
      "source": [
        "def validate_epoch(model):\n",
        "    accs = [batch_accuracy(model(xb), yb) for xb,yb in valid_dl]\n",
        "    return round(torch.stack(accs).mean().item(), 4)"
      ],
      "execution_count": null,
      "outputs": []
    },
    {
      "cell_type": "code",
      "metadata": {
        "colab": {
          "base_uri": "https://localhost:8080/"
        },
        "id": "aAYrMnl-hyO-",
        "outputId": "5d5e3d8b-e4a8-4cbf-c85d-30763624f0bc"
      },
      "source": [
        "validate_epoch(linear1)"
      ],
      "execution_count": null,
      "outputs": [
        {
          "output_type": "execute_result",
          "data": {
            "text/plain": [
              "0.5485"
            ]
          },
          "metadata": {
            "tags": []
          },
          "execution_count": 41
        }
      ]
    },
    {
      "cell_type": "markdown",
      "metadata": {
        "id": "yfsGzGXmh7JX"
      },
      "source": [
        "Let's train one epoch to see how the accuracy compares:"
      ]
    },
    {
      "cell_type": "code",
      "metadata": {
        "colab": {
          "base_uri": "https://localhost:8080/"
        },
        "id": "ijeNguNnh9uU",
        "outputId": "26f6d13e-a2af-452d-b8fc-af618189af0e"
      },
      "source": [
        "lr = 1.\n",
        "params = weights,bias\n",
        "train_epoch(linear1, lr, params)\n",
        "validate_epoch(linear1)"
      ],
      "execution_count": null,
      "outputs": [
        {
          "output_type": "execute_result",
          "data": {
            "text/plain": [
              "0.6303"
            ]
          },
          "metadata": {
            "tags": []
          },
          "execution_count": 42
        }
      ]
    },
    {
      "cell_type": "markdown",
      "metadata": {
        "id": "wCij2M_Hh__j"
      },
      "source": [
        "Then do 20 more:"
      ]
    },
    {
      "cell_type": "code",
      "metadata": {
        "id": "bNZqVn6ViBzZ",
        "colab": {
          "base_uri": "https://localhost:8080/"
        },
        "outputId": "2a72f75b-41c5-4002-9c09-2750497c0f68"
      },
      "source": [
        "for i in range(20):\n",
        "    train_epoch(linear1, lr, params)\n",
        "    print(validate_epoch(linear1), end=' ')"
      ],
      "execution_count": null,
      "outputs": [
        {
          "output_type": "stream",
          "text": [
            "0.8187 0.915 0.9443 0.956 0.9638 0.9672 0.9692 0.9702 0.9716 0.9736 0.9741 0.975 0.975 0.976 0.9765 0.9765 0.9765 0.9765 0.9765 0.9765 "
          ],
          "name": "stdout"
        }
      ]
    },
    {
      "cell_type": "markdown",
      "metadata": {
        "id": "OLlMVVq6nRng"
      },
      "source": [
        "A lot of what we have built manually is available in PyTorch.\n",
        "\n",
        "Instead of creating the linear model (`linear1 = xb@weights + bias`) and initialising those weights and bias; we can make use of `nn.Linear(weightLength, biasLength) like so: "
      ]
    },
    {
      "cell_type": "code",
      "metadata": {
        "id": "TdpCs1AKncQj"
      },
      "source": [
        "linear_model = nn.Linear(28*28, 1)  "
      ],
      "execution_count": null,
      "outputs": []
    },
    {
      "cell_type": "markdown",
      "metadata": {
        "id": "rv0ViHK9nzPm"
      },
      "source": [
        "Of which we can find the weights and biases by destructuring the returned tuple from `.paramters()`:"
      ]
    },
    {
      "cell_type": "code",
      "metadata": {
        "colab": {
          "base_uri": "https://localhost:8080/"
        },
        "id": "6FVDExxxn4fb",
        "outputId": "923e7a8c-1877-4ad0-94bb-2125e217ff6b"
      },
      "source": [
        "w,b = linear_model.parameters()\n",
        "w.shape,b.shape"
      ],
      "execution_count": null,
      "outputs": [
        {
          "output_type": "execute_result",
          "data": {
            "text/plain": [
              "(torch.Size([1, 784]), torch.Size([1]))"
            ]
          },
          "metadata": {
            "tags": []
          },
          "execution_count": 48
        }
      ]
    },
    {
      "cell_type": "markdown",
      "metadata": {
        "id": "VUNS9rmQlHqE"
      },
      "source": [
        "We can use this information to create an optimiser:"
      ]
    },
    {
      "cell_type": "code",
      "metadata": {
        "id": "PUW7y8uAlHqE"
      },
      "source": [
        "class BasicOptim:\n",
        "    def __init__(self,params,lr): self.params,self.lr = list(params),lr\n",
        "\n",
        "    def step(self, *args, **kwargs):\n",
        "        for p in self.params: p.data -= p.grad.data * self.lr\n",
        "\n",
        "    def zero_grad(self, *args, **kwargs):\n",
        "        for p in self.params: p.grad = None"
      ],
      "execution_count": null,
      "outputs": []
    },
    {
      "cell_type": "markdown",
      "metadata": {
        "id": "3s5ZZvkLouaj"
      },
      "source": [
        "Making use of this class, we can recreate the same optimiser as before using the models parameters:"
      ]
    },
    {
      "cell_type": "code",
      "metadata": {
        "id": "ZjcmizY6o0F6"
      },
      "source": [
        "opt = BasicOptim(linear_model.parameters(), lr)"
      ],
      "execution_count": null,
      "outputs": []
    },
    {
      "cell_type": "markdown",
      "metadata": {
        "id": "Wgw7EpAPo6M5"
      },
      "source": [
        "Which means we can simplify our training loop to:"
      ]
    },
    {
      "cell_type": "code",
      "metadata": {
        "id": "fA_79dIRo9D8"
      },
      "source": [
        "def train_epoch(model):\n",
        "    for xb,yb in dl:\n",
        "        calc_grad(xb, yb, model)\n",
        "        opt.step()\n",
        "        opt.zero_grad()"
      ],
      "execution_count": null,
      "outputs": []
    },
    {
      "cell_type": "markdown",
      "metadata": {
        "id": "lkA58-ERpU5N"
      },
      "source": [
        "Let's put our little training loop in a function, to make things simpler:"
      ]
    },
    {
      "cell_type": "code",
      "metadata": {
        "id": "OV4wrC9ApU5N"
      },
      "source": [
        "def train_model(model, epochs):\n",
        "    for i in range(epochs):\n",
        "        train_epoch(model)\n",
        "        print(validate_epoch(model), end=' ')"
      ],
      "execution_count": null,
      "outputs": []
    },
    {
      "cell_type": "code",
      "metadata": {
        "colab": {
          "base_uri": "https://localhost:8080/"
        },
        "id": "oSg_S4uppe5I",
        "outputId": "3b2ed4a0-3af0-4987-a9d8-81ea40bc3d7c"
      },
      "source": [
        "train_model(linear_model, 20)"
      ],
      "execution_count": null,
      "outputs": [
        {
          "output_type": "stream",
          "text": [
            "0.4932 0.6724 0.8501 0.9102 0.9341 0.9516 0.9609 0.9663 0.9663 0.9692 0.9697 0.9726 0.9736 0.9746 0.9751 0.9756 0.9775 0.9785 0.9795 0.9795 "
          ],
          "name": "stdout"
        }
      ]
    },
    {
      "cell_type": "markdown",
      "metadata": {
        "id": "94GoRd0MqkSk"
      },
      "source": [
        "The **fastai** library provides an SGD class that covers the same functionality as our `BasicOptim` class:\n"
      ]
    },
    {
      "cell_type": "code",
      "metadata": {
        "colab": {
          "base_uri": "https://localhost:8080/"
        },
        "id": "txEMAfaDqj8b",
        "outputId": "e1de6256-f384-4115-b79c-8fb72da06d3a"
      },
      "source": [
        "linear_model = nn.Linear(28*28,1)\n",
        "opt = SGD(linear_model.parameters(), lr)\n",
        "train_model(linear_model, 20)"
      ],
      "execution_count": null,
      "outputs": [
        {
          "output_type": "stream",
          "text": [
            "0.4932 0.6943 0.8501 0.9146 0.9365 0.9512 0.9609 0.9663 0.9668 0.9692 0.9697 0.9731 0.9746 0.9751 0.9771 0.9771 0.979 0.979 0.9795 0.98 "
          ],
          "name": "stdout"
        }
      ]
    }
  ]
}
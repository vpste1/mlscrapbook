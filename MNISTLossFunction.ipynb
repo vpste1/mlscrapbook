{
  "nbformat": 4,
  "nbformat_minor": 0,
  "metadata": {
    "colab": {
      "name": "MNISTLossFunction.ipynb",
      "provenance": [],
      "collapsed_sections": [],
      "authorship_tag": "ABX9TyNTqxKbU/F4UyN7GGvHNEHL",
      "include_colab_link": true
    },
    "kernelspec": {
      "name": "python3",
      "display_name": "Python 3"
    },
    "accelerator": "GPU"
  },
  "cells": [
    {
      "cell_type": "markdown",
      "metadata": {
        "id": "view-in-github",
        "colab_type": "text"
      },
      "source": [
        "<a href=\"https://colab.research.google.com/github/vpste1/mlscrapbook/blob/master/MNISTLossFunction.ipynb\" target=\"_parent\"><img src=\"https://colab.research.google.com/assets/colab-badge.svg\" alt=\"Open In Colab\"/></a>"
      ]
    },
    {
      "cell_type": "code",
      "metadata": {
        "colab": {
          "base_uri": "https://localhost:8080/"
        },
        "id": "PAp-aKo4e5Ii",
        "outputId": "6e427fc3-02d7-4b91-f290-547ef66d0c82"
      },
      "source": [
        "!pip install -Uqq fastbook\n",
        "import fastbook\n",
        "fastbook.setup_book()"
      ],
      "execution_count": 2,
      "outputs": [
        {
          "output_type": "stream",
          "text": [
            "\u001b[K     |████████████████████████████████| 727kB 9.1MB/s \n",
            "\u001b[K     |████████████████████████████████| 51kB 8.5MB/s \n",
            "\u001b[K     |████████████████████████████████| 1.1MB 15.6MB/s \n",
            "\u001b[K     |████████████████████████████████| 194kB 30.4MB/s \n",
            "\u001b[K     |████████████████████████████████| 61kB 9.3MB/s \n",
            "\u001b[?25hMounted at /content/gdrive\n"
          ],
          "name": "stdout"
        }
      ]
    },
    {
      "cell_type": "code",
      "metadata": {
        "id": "HCrzUcp7fCB1"
      },
      "source": [
        "from fastai.vision.all import *\n",
        "from fastbook import *\n",
        "\n",
        "matplotlib.rc('image', cmap='Greys')"
      ],
      "execution_count": 3,
      "outputs": []
    },
    {
      "cell_type": "code",
      "metadata": {
        "colab": {
          "base_uri": "https://localhost:8080/",
          "height": 17
        },
        "id": "TGAlHq92fPqL",
        "outputId": "272016f7-8321-4263-b19c-43fd041add13"
      },
      "source": [
        "path = untar_data(URLs.MNIST_SAMPLE)\n",
        "Path.BASE_PATH = path"
      ],
      "execution_count": 4,
      "outputs": [
        {
          "output_type": "display_data",
          "data": {
            "text/html": [
              ""
            ],
            "text/plain": [
              "<IPython.core.display.HTML object>"
            ]
          },
          "metadata": {
            "tags": []
          }
        }
      ]
    },
    {
      "cell_type": "markdown",
      "metadata": {
        "id": "56f3I0kif6cM"
      },
      "source": [
        "Load the training sets"
      ]
    },
    {
      "cell_type": "code",
      "metadata": {
        "colab": {
          "base_uri": "https://localhost:8080/"
        },
        "id": "Gm07jnwcf7-x",
        "outputId": "b190db84-a54e-40a7-e156-39158f13c5c7"
      },
      "source": [
        "train_3_tens = torch.stack([tensor(Image.open(o)) \n",
        "                            for o in (path/'train'/'3').ls()])\n",
        "train_3_tens = train_3_tens.float()/255\n",
        "train_7_tens = torch.stack([tensor(Image.open(o)) \n",
        "                            for o in (path/'train'/'7').ls()])\n",
        "train_7_tens = train_7_tens.float()/255\n",
        "train_3_tens.shape,train_7_tens.shape"
      ],
      "execution_count": 5,
      "outputs": [
        {
          "output_type": "execute_result",
          "data": {
            "text/plain": [
              "(torch.Size([6131, 28, 28]), torch.Size([6265, 28, 28]))"
            ]
          },
          "metadata": {
            "tags": []
          },
          "execution_count": 5
        }
      ]
    },
    {
      "cell_type": "markdown",
      "metadata": {
        "id": "NcLcQF_7f2V0"
      },
      "source": [
        "Load the validation sets"
      ]
    },
    {
      "cell_type": "code",
      "metadata": {
        "colab": {
          "base_uri": "https://localhost:8080/"
        },
        "id": "nXkPHoPEfUWs",
        "outputId": "b202a965-7a65-4d24-d1ad-5fef70bec414"
      },
      "source": [
        "valid_3_tens = torch.stack([tensor(Image.open(o)) \n",
        "                            for o in (path/'valid'/'3').ls()])\n",
        "valid_3_tens = valid_3_tens.float()/255\n",
        "valid_7_tens = torch.stack([tensor(Image.open(o)) \n",
        "                            for o in (path/'valid'/'7').ls()])\n",
        "valid_7_tens = valid_7_tens.float()/255\n",
        "valid_3_tens.shape,valid_7_tens.shape"
      ],
      "execution_count": 6,
      "outputs": [
        {
          "output_type": "execute_result",
          "data": {
            "text/plain": [
              "(torch.Size([1010, 28, 28]), torch.Size([1028, 28, 28]))"
            ]
          },
          "metadata": {
            "tags": []
          },
          "execution_count": 6
        }
      ]
    },
    {
      "cell_type": "markdown",
      "metadata": {
        "id": "nZNA6cPlQhP5"
      },
      "source": [
        "Stretch each 28x28 image into a 1x784 tensor, and stack them to form a rank 2 tensor with all images represented as rank 1 tensors.\n",
        "\n",
        "Then generate a rank 1 tensor with all the y data (1 for threes and 0 for sevens).\n",
        "\n",
        "Below we have 12396 images."
      ]
    },
    {
      "cell_type": "code",
      "metadata": {
        "colab": {
          "base_uri": "https://localhost:8080/"
        },
        "id": "fvdxovwqW0_V",
        "outputId": "22ad500d-4518-4083-fc3f-831457db039c"
      },
      "source": [
        "train_x = torch.cat([train_3_tens, train_7_tens]).view(-1, 28*28)\n",
        "train_y = tensor([1]*train_3_tens.shape[0] + [0]*train_7_tens.shape[0]).unsqueeze(1)\n",
        "train_x.shape,train_y.shape"
      ],
      "execution_count": 7,
      "outputs": [
        {
          "output_type": "execute_result",
          "data": {
            "text/plain": [
              "(torch.Size([12396, 784]), torch.Size([12396, 1]))"
            ]
          },
          "metadata": {
            "tags": []
          },
          "execution_count": 7
        }
      ]
    },
    {
      "cell_type": "markdown",
      "metadata": {
        "id": "i8KZgSgyRiUT"
      },
      "source": [
        "Define a way to randomly initialise paramters (both weights and bias)."
      ]
    },
    {
      "cell_type": "code",
      "metadata": {
        "id": "z_tIThCxNSwP"
      },
      "source": [
        "def init_params(size, variance=1.0): return (torch.randn(size)*variance).requires_grad_()"
      ],
      "execution_count": 8,
      "outputs": []
    },
    {
      "cell_type": "code",
      "metadata": {
        "id": "f0pL85svNSwP"
      },
      "source": [
        "weights = init_params((28*28,1))"
      ],
      "execution_count": 9,
      "outputs": []
    },
    {
      "cell_type": "code",
      "metadata": {
        "id": "kwB1mPUWNSwP"
      },
      "source": [
        "bias = init_params(1)"
      ],
      "execution_count": 10,
      "outputs": []
    },
    {
      "cell_type": "markdown",
      "metadata": {
        "id": "02vigFkrSFV9"
      },
      "source": [
        "If we were to follow a linear model, and say `train_x@weights + bias` we would end up with a rank 1 tensor of all the different predictions for each image (12396x1 in size).\n",
        "\n",
        "If we said any prediction greater than zero is a 3, and define our accuracy (traditionally a metric) as our loss function, we would find that small adjustments to paramters can result in nothing crossing the threshold, and the loss not changing. We essentially have a zero-gradient almost everywhere for this kind of loss function. \n",
        "\n",
        "We need a better representation of loss so that we can measure things more granularly heading in the right direction."
      ]
    },
    {
      "cell_type": "markdown",
      "metadata": {
        "id": "KgT8TdBmTTlb"
      },
      "source": [
        "For the next section, we will be using smaller samples of data to demonstrate a better loss function. We have a target tensor, and a prediction tensor. The \"closeness\" of the prediction to the target is our loss:"
      ]
    },
    {
      "cell_type": "code",
      "metadata": {
        "id": "bvY-D0SaS_Cu"
      },
      "source": [
        "trgts  = tensor([1,0,1])\n",
        "prds   = tensor([0.9, 0.4, 0.2])"
      ],
      "execution_count": 11,
      "outputs": []
    },
    {
      "cell_type": "markdown",
      "metadata": {
        "id": "D4LBS6ffTqLw"
      },
      "source": [
        "`torch.where(a, b, c)` could be rewritten as `targets==1 ? 1-pred : pred`. We are essentially saying, if the target is 1, the loss should be its distance from one; otherwise its loss is the distance from 0."
      ]
    },
    {
      "cell_type": "code",
      "metadata": {
        "id": "c5s2WDRNNSwP"
      },
      "source": [
        "def mnist_loss(predictions, targets):\n",
        "    return torch.where(targets==1, 1-predictions, predictions).mean()"
      ],
      "execution_count": 12,
      "outputs": []
    },
    {
      "cell_type": "markdown",
      "metadata": {
        "id": "nmgmMzoUUO2v"
      },
      "source": [
        "Tweaking our predictions to be closer to their targets will reduce the overall loss:"
      ]
    },
    {
      "cell_type": "code",
      "metadata": {
        "id": "jjdgTEKhNSwP",
        "colab": {
          "base_uri": "https://localhost:8080/"
        },
        "outputId": "3983c891-04b5-4565-f45a-2c611fdef2f3"
      },
      "source": [
        "mnist_loss(tensor([0.9, 0.4, 0.99]),trgts)"
      ],
      "execution_count": 15,
      "outputs": [
        {
          "output_type": "execute_result",
          "data": {
            "text/plain": [
              "tensor(0.1700)"
            ]
          },
          "metadata": {
            "tags": []
          },
          "execution_count": 15
        }
      ]
    },
    {
      "cell_type": "markdown",
      "metadata": {
        "id": "_NClJ_Q0Ujve"
      },
      "source": [
        "Our current definition of `mnist_loss` relies on the predictions being between a 0 and a 1; something that a *sigmoid* can help translate our data to."
      ]
    },
    {
      "cell_type": "code",
      "metadata": {
        "id": "TdaxwvtdUY91"
      },
      "source": [
        "def sigmoid(x): return 1/(1+torch.exp(-x))"
      ],
      "execution_count": 16,
      "outputs": []
    },
    {
      "cell_type": "code",
      "metadata": {
        "colab": {
          "base_uri": "https://localhost:8080/",
          "height": 339
        },
        "id": "ly2O2xrlUTuJ",
        "outputId": "99a37b2f-4b42-4219-b399-fbc44790de48"
      },
      "source": [
        "plot_function(torch.sigmoid, title='Sigmoid', min=-4, max=4)"
      ],
      "execution_count": 17,
      "outputs": [
        {
          "output_type": "stream",
          "text": [
            "/usr/local/lib/python3.6/dist-packages/fastbook/__init__.py:73: UserWarning: Not providing a value for linspace's steps is deprecated and will throw a runtime error in a future release. This warning will appear only once per process. (Triggered internally at  /pytorch/aten/src/ATen/native/RangeFactories.cpp:23.)\n",
            "  x = torch.linspace(min,max)\n"
          ],
          "name": "stderr"
        },
        {
          "output_type": "display_data",
          "data": {
            "image/png": "[encoded data removed]",
            "text/plain": [
              "<Figure size 432x288 with 1 Axes>"
            ]
          },
          "metadata": {
            "tags": [],
            "needs_background": "light"
          }
        }
      ]
    },
    {
      "cell_type": "markdown",
      "metadata": {
        "id": "2tP6VVv4Utby"
      },
      "source": [
        "Let's update our definition of the `mnist_loss` function to take predictions and spread them between 0 and 1:"
      ]
    },
    {
      "cell_type": "code",
      "metadata": {
        "id": "C6oqcvAbUzj6"
      },
      "source": [
        "def mnist_loss(predictions, targets):\n",
        "    predictions = predictions.sigmoid()\n",
        "    return torch.where(targets==1, 1-predictions, predictions).mean()"
      ],
      "execution_count": 18,
      "outputs": []
    },
    {
      "cell_type": "markdown",
      "metadata": {
        "id": "wp9VOhvrVEVA"
      },
      "source": [
        "Before moving forwards, a note on optimisation. If we were to calculate the loss of our model on the entire data set, it would be too slow. If we were to do it on a single item, we would only be gauging the models loss on that item. \n",
        "\n",
        "The best route is a compromise between the two: calculating the loss for a few titems at a time; known as a *mini-batch*. The number of items in a mini-batch is known as the batch size. A larger batch size results in a more stable estimate, but more time per epoch.\n",
        "\n",
        "Batches can also be paralellised which is optimal for GPU processing.\n",
        "\n",
        "We will also be shuffling our mini-batches each epoch to vary our data for better generalisation during training (avoiding over-fitting).\n",
        "\n",
        "`DataLoaders` can do this shuffling and batching for us:"
      ]
    },
    {
      "cell_type": "code",
      "metadata": {
        "id": "Fhb2hZcpNSwQ",
        "colab": {
          "base_uri": "https://localhost:8080/"
        },
        "outputId": "7b189d96-adf4-4d2c-9daa-07bbfe893705"
      },
      "source": [
        "coll = range(15)\n",
        "dl = DataLoader(coll, batch_size=5, shuffle=True)\n",
        "list(dl)"
      ],
      "execution_count": 19,
      "outputs": [
        {
          "output_type": "execute_result",
          "data": {
            "text/plain": [
              "[tensor([ 3, 12,  8, 10,  2]),\n",
              " tensor([ 9,  4,  7, 14,  5]),\n",
              " tensor([ 1, 13,  0,  6, 11])]"
            ]
          },
          "metadata": {
            "tags": []
          },
          "execution_count": 19
        }
      ]
    },
    {
      "cell_type": "markdown",
      "metadata": {
        "id": "ydty6xPkWfeJ"
      },
      "source": [
        "When training a model, we not only have inputs but we have their intended targets (X and Y). \n",
        "\n",
        "A collection that contains tuples of independent and dependent variables is known as a `Dataset`.\n",
        "\n",
        "Here is a simple `Dataset`:"
      ]
    },
    {
      "cell_type": "code",
      "metadata": {
        "id": "GhfUZQkSNSwQ",
        "colab": {
          "base_uri": "https://localhost:8080/"
        },
        "outputId": "99f82eca-e9a4-44f9-db80-43d13444689a"
      },
      "source": [
        "ds = L(enumerate(string.ascii_lowercase))\n",
        "ds"
      ],
      "execution_count": 25,
      "outputs": [
        {
          "output_type": "execute_result",
          "data": {
            "text/plain": [
              "(#26) [(0, 'a'),(1, 'b'),(2, 'c'),(3, 'd'),(4, 'e'),(5, 'f'),(6, 'g'),(7, 'h'),(8, 'i'),(9, 'j')...]"
            ]
          },
          "metadata": {
            "tags": []
          },
          "execution_count": 25
        }
      ]
    },
    {
      "cell_type": "code",
      "metadata": {
        "colab": {
          "base_uri": "https://localhost:8080/"
        },
        "id": "IKd8VfmHW2gE",
        "outputId": "daf47e8f-52eb-47ec-ef6c-0fa1c1e0c5f5"
      },
      "source": [
        "dl = DataLoader(ds, batch_size=6, shuffle=True)\n",
        "list(dl)"
      ],
      "execution_count": 26,
      "outputs": [
        {
          "output_type": "execute_result",
          "data": {
            "text/plain": [
              "[(tensor([17, 18, 10, 22,  8, 14]), ('r', 's', 'k', 'w', 'i', 'o')),\n",
              " (tensor([20, 15,  9, 13, 21, 12]), ('u', 'p', 'j', 'n', 'v', 'm')),\n",
              " (tensor([ 7, 25,  6,  5, 11, 23]), ('h', 'z', 'g', 'f', 'l', 'x')),\n",
              " (tensor([ 1,  3,  0, 24, 19, 16]), ('b', 'd', 'a', 'y', 't', 'q')),\n",
              " (tensor([2, 4]), ('c', 'e'))]"
            ]
          },
          "metadata": {
            "tags": []
          },
          "execution_count": 26
        }
      ]
    }
  ]
}